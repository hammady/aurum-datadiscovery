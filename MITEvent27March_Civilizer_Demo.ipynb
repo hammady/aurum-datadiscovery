{
 "cells": [
  {
   "cell_type": "code",
   "execution_count": 2,
   "metadata": {
    "collapsed": false,
    "scrolled": true
   },
   "outputs": [
    {
     "data": {
      "text/markdown": [
       "Loading: */Users/emansour/elab/DAGroup/DataCivilizer/Aurum-GitHub/aurum-datadiscovery/models/mitdw/*"
      ],
      "text/plain": [
       "<IPython.core.display.Markdown object>"
      ]
     },
     "metadata": {},
     "output_type": "display_data"
    },
    {
     "data": {
      "text/markdown": [
       "### Help Menu"
      ],
      "text/plain": [
       "<IPython.core.display.Markdown object>"
      ]
     },
     "metadata": {},
     "output_type": "display_data"
    },
    {
     "data": {
      "text/markdown": [
       "You can use the system through an **API** object. API objects are returnedby the *init_system* function, so you can get one by doing:"
      ],
      "text/plain": [
       "<IPython.core.display.Markdown object>"
      ]
     },
     "metadata": {},
     "output_type": "display_data"
    },
    {
     "data": {
      "text/markdown": [
       "***your_api_object = init_system('path_to_stored_model')***"
      ],
      "text/plain": [
       "<IPython.core.display.Markdown object>"
      ]
     },
     "metadata": {},
     "output_type": "display_data"
    },
    {
     "data": {
      "text/markdown": [
       "Once you have access to an API object there are a few concepts that are useful to use the API. **content** refers to actual values of a given field. For example, if you have a table with an attribute called __Name__ and values *Olu, Mike, Sam*, content refers to the actual values, e.g. Mike, Sam, Olu."
      ],
      "text/plain": [
       "<IPython.core.display.Markdown object>"
      ]
     },
     "metadata": {},
     "output_type": "display_data"
    },
    {
     "data": {
      "text/markdown": [
       "**schema** refers to the name of a given field. In the previous example, schema refers to the word__Name__ as that's how the field is called."
      ],
      "text/plain": [
       "<IPython.core.display.Markdown object>"
      ]
     },
     "metadata": {},
     "output_type": "display_data"
    },
    {
     "data": {
      "text/markdown": [
       "Finally, **entity** refers to the *semantic type* of the content. This is in experimental state. For the previous example it would return *'person'* as that's what those names refer to."
      ],
      "text/plain": [
       "<IPython.core.display.Markdown object>"
      ]
     },
     "metadata": {},
     "output_type": "display_data"
    },
    {
     "data": {
      "text/markdown": [
       "Certain functions require a *field* as input. In general a field is specified by the source name (e.g. table name) and the field name (e.g. attribute name). For example, if we are interested in finding content similar to the one of the attribute *year* in the table *Employee* we can provide the field in the following way:"
      ],
      "text/plain": [
       "<IPython.core.display.Markdown object>"
      ]
     },
     "metadata": {},
     "output_type": "display_data"
    },
    {
     "name": "stdout",
     "output_type": "stream",
     "text": [
      "field = ('Employee', 'year') # field = [<source_name>, <field_name>)\n",
      "Took 1.2120800018310547 to load all data\n"
     ]
    }
   ],
   "source": [
    "from main import init_system\n",
    "#from pathselection import joinpathselection\n",
    "#from integrating_civilizer import *\n",
    "from api.apiutils import Relation\n",
    "api, reporting = init_system(\"/Users/emansour/elab/DAGroup/DataCivilizer/Aurum-GitHub/aurum-datadiscovery/models/mitdw/\")"
   ]
  },
  {
   "cell_type": "code",
   "execution_count": 4,
   "metadata": {
    "collapsed": false
   },
   "outputs": [
    {
     "name": "stdout",
     "output_type": "stream",
     "text": [
      "Employee_directory.csv\n"
     ]
    }
   ],
   "source": [
    "kw = \"employee\"\n",
    "res = api.table_name_search(kw)\n",
    "res.print_tables()"
   ]
  },
  {
   "cell_type": "code",
   "execution_count": 3,
   "metadata": {
    "collapsed": false
   },
   "outputs": [
    {
     "name": "stdout",
     "output_type": "stream",
     "text": [
      "Hit(nid='3805293829', db_name='MITDW', source_name='Zip_usa.csv', field_name='Zip Code', score=0.916708984375)\n",
      "Hit(nid='1144772871', db_name='MITDW', source_name='Warehouse_users.csv', field_name='Title', score=1)\n",
      "Hit(nid='180097543', db_name='MITDW', source_name='Employee_directory.csv', field_name='Directory Full Name', score=1)\n",
      "Hit(nid='3367778836', db_name='MITDW', source_name='Warehouse_users.csv', field_name='Unit Name', score=1)\n",
      "Hit(nid='3819846166', db_name='MITDW', source_name='Drupal_employee_directory.csv', field_name='Hr Org Unit Title', score=1)\n",
      "Hit(nid='1510843162', db_name='MITDW', source_name='Warehouse_users.csv', field_name='Unit Id', score=0.9720405932558384)\n",
      "Hit(nid='2291421469', db_name='MITDW', source_name='Hr_org_unit.csv', field_name='Hr Department Name', score=1)\n",
      "Hit(nid='1252981536', db_name='MITDW', source_name='Sdo_crs_compound.csv', field_name='Cmpd Horiz Srid', score=0.9962470512545571)\n",
      "Hit(nid='3924554025', db_name='MITDW', source_name='Drupal_employee_directory.csv', field_name='Office Location', score=1)\n",
      "Hit(nid='4064058154', db_name='MITDW', source_name='Se_person.csv', field_name='Office Location', score=1)\n",
      "Hit(nid='3095195179', db_name='MITDW', source_name='Sdo_crs_geocentric.csv', field_name='Srid', score=0.9031986531986532)\n",
      "Hit(nid='3079913004', db_name='MITDW', source_name='Fclt_organization.csv', field_name='Major Org', score=0.9134922504974343)\n",
      "Hit(nid='661570605', db_name='MITDW', source_name='Fclt_organization_hist.csv', field_name='Hr Department Code Old', score=0.9210069444444444)\n",
      "Hit(nid='3104052270', db_name='MITDW', source_name='Employee_directory.csv', field_name='Last Name', score=1)\n",
      "Hit(nid='1817091637', db_name='MITDW', source_name='Fclt_organization.csv', field_name='Hr Department Code Old', score=0.920201068174678)\n",
      "Hit(nid='1010289212', db_name='MITDW', source_name='Employee_directory.csv', field_name='Directory Title', score=1)\n",
      "Hit(nid='3763289409', db_name='MITDW', source_name='Drupal_employee_directory.csv', field_name='Full Name', score=1)\n",
      "Hit(nid='2867115842', db_name='MITDW', source_name='Se_person.csv', field_name='Last Name', score=1)\n",
      "Hit(nid='2209338436', db_name='MITDW', source_name='Employee_directory.csv', field_name='Email Address Uppercase', score=1)\n",
      "Hit(nid='2806961737', db_name='MITDW', source_name='Drupal_employee_directory.csv', field_name='Directory Title', score=1)\n",
      "Hit(nid='1426795610', db_name='MITDW', source_name='Drupal_employee_directory.csv', field_name='Middle Name', score=1)\n",
      "Hit(nid='2523032667', db_name='MITDW', source_name='Hr_org_unit_new.csv', field_name='Hr Department Name Long', score=1)\n",
      "Hit(nid='1963260776', db_name='MITDW', source_name='Se_person.csv', field_name='Organization', score=1)\n",
      "Hit(nid='428165994', db_name='MITDW', source_name='Employee_directory.csv', field_name='Name Known By', score=1)\n",
      "Hit(nid='1278833775', db_name='MITDW', source_name='Se_person.csv', field_name='Position Title', score=1)\n",
      "Hit(nid='1931633523', db_name='MITDW', source_name='Warehouse_users.csv', field_name='Office Phone', score=0.9999997280358023)\n",
      "Hit(nid='75842164', db_name='MITDW', source_name='Library_reserve_catalog.csv', field_name='Library Reserve Catalog Key', score=0.94775390625)\n",
      "Hit(nid='3228173433', db_name='MITDW', source_name='Fac_organization.csv', field_name='Hr Department Code Old', score=0.9328005550319405)\n",
      "Hit(nid='3408339842', db_name='MITDW', source_name='Warehouse_users.csv', field_name='Email Address', score=1)\n",
      "Hit(nid='516763785', db_name='MITDW', source_name='Employee_directory.csv', field_name='First Name', score=1)\n",
      "Hit(nid='1299472277', db_name='MITDW', source_name='Space_unit.csv', field_name='Space Unit Code', score=0.9349277411247251)\n",
      "Hit(nid='2126915225', db_name='MITDW', source_name='Employee_directory.csv', field_name='Krb Name', score=1)\n",
      "Hit(nid='2277666459', db_name='MITDW', source_name='Employee_directory.csv', field_name='Preferred Last Name Upper', score=1)\n",
      "Hit(nid='2559518888', db_name='MITDW', source_name='Drupal_employee_directory.csv', field_name='Personal Url', score=1)\n",
      "Hit(nid='167132843', db_name='MITDW', source_name='Drupal_employee_directory.csv', field_name='Email Address', score=1)\n",
      "Hit(nid='3009237932', db_name='MITDW', source_name='Sis_department.csv', field_name='Dept Budget Code', score=0.883929173693086)\n",
      "Hit(nid='473427631', db_name='MITDW', source_name='Warehouse_users.csv', field_name='Krb Name Uppercase', score=1)\n",
      "Hit(nid='2865286576', db_name='MITDW', source_name='Employee_directory.csv', field_name='Full Name', score=1)\n",
      "Hit(nid='2237206963', db_name='MITDW', source_name='Fclt_organization_hist.csv', field_name='Organization Number', score=0.9296144859813084)\n",
      "Hit(nid='2592536758', db_name='MITDW', source_name='Employee_directory.csv', field_name='Krb Name Uppercase', score=1)\n",
      "Hit(nid='2891025336', db_name='MITDW', source_name='Hr_org_unit.csv', field_name='Hr Department Code Old', score=0.8704609121373966)\n",
      "Hit(nid='1612946107', db_name='MITDW', source_name='Employee_directory.csv', field_name='Email Address', score=1)\n",
      "Hit(nid='1308155585', db_name='MITDW', source_name='Se_person.csv', field_name='Mit Id', score=0.9183134046570169)\n",
      "Hit(nid='1602435272', db_name='MITDW', source_name='Hr_org_unit.csv', field_name='Hr Department Name Long', score=1)\n",
      "Hit(nid='1588488392', db_name='MITDW', source_name='Space_unit.csv', field_name='Space Unit Key', score=0.9349277411247251)\n",
      "Hit(nid='1084026569', db_name='MITDW', source_name='Warehouse_users.csv', field_name='Krb Name', score=1)\n",
      "Hit(nid='3467362506', db_name='MITDW', source_name='Warehouse_users.csv', field_name='Office Location', score=1)\n",
      "Hit(nid='1092984523', db_name='MITDW', source_name='Hr_org_unit_new.csv', field_name='Hr Department Code Old', score=0.8557915095821552)\n",
      "Hit(nid='1975578063', db_name='MITDW', source_name='Drupal_employee_directory.csv', field_name='Office Phone', score=1.0)\n",
      "Hit(nid='3431673042', db_name='MITDW', source_name='Fclt_organization.csv', field_name='Organization Number', score=0.9192192899780082)\n",
      "Hit(nid='2495270099', db_name='MITDW', source_name='Fac_organization.csv', field_name='Major Org', score=0.9810713163682061)\n",
      "Hit(nid='2014785493', db_name='MITDW', source_name='Cip_with_version.csv', field_name='Cip With Version Key', score=0.9022163994255805)\n",
      "Hit(nid='3661508054', db_name='MITDW', source_name='Sis_course_description.csv', field_name='Cip Program Code', score=0.9299471393034826)\n",
      "Hit(nid='2255634390', db_name='MITDW', source_name='Cip_with_version.csv', field_name='Program Code', score=0.9540544166928474)\n",
      "Hit(nid='3106434780', db_name='MITDW', source_name='Se_person.csv', field_name='Full Name', score=1)\n",
      "Hit(nid='1247043805', db_name='MITDW', source_name='Hr_org_unit_new.csv', field_name='Hr Department Name', score=1)\n",
      "Hit(nid='1037961694', db_name='MITDW', source_name='Employee_directory.csv', field_name='Preferred First Name Upper', score=1)\n",
      "Hit(nid='4279792862', db_name='MITDW', source_name='Library_reserve_catalog.csv', field_name='Catalog System Number', score=0.94775390625)\n",
      "Hit(nid='4085507295', db_name='MITDW', source_name='Drupal_employee_directory.csv', field_name='Last Name', score=1)\n",
      "Hit(nid='2250289891', db_name='MITDW', source_name='Drupal_employee_directory.csv', field_name='Primary Title', score=1)\n",
      "Hit(nid='2535938531', db_name='MITDW', source_name='Drupal_employee_directory.csv', field_name='Mit Id', score=0.9920089898863779)\n",
      "Hit(nid='3958721257', db_name='MITDW', source_name='Fac_organization.csv', field_name='Organization Number', score=0.9097009503612944)\n",
      "Hit(nid='1653975279', db_name='MITDW', source_name='Warehouse_users.csv', field_name='Mit Id', score=0.9802464430894309)\n",
      "Hit(nid='3560797683', db_name='MITDW', source_name='Drupal_employee_directory.csv', field_name='First Name', score=1)\n",
      "Hit(nid='4025816819', db_name='MITDW', source_name='Employee_directory.csv', field_name='Primary Title', score=1)\n",
      "Hit(nid='3685481214', db_name='MITDW', source_name='Employee_directory.csv', field_name='Full Name Uppercase', score=1)\n"
     ]
    }
   ],
   "source": [
    "table = api.drs_from_table(\"Employee_directory.csv\")\n",
    "res = api.similar_content_to(table)\n",
    "res.print_columns()"
   ]
  },
  {
   "cell_type": "code",
   "execution_count": 4,
   "metadata": {
    "collapsed": false
   },
   "outputs": [
    {
     "name": "stdout",
     "output_type": "stream",
     "text": [
      "DB: mitdwh               TABLE: Warehouse_users.csv            FIELD: Title                         \n",
      "DB: mitdwh               TABLE: Employee_directory.csv         FIELD: Directory Title               \n",
      "DB: mitdwh               TABLE: Se_person.csv                  FIELD: Position Title                \n",
      "DB: mitdwh               TABLE: Drupal_employee_directory.csv  FIELD: Primary Title                 \n",
      "DB: mitdwh               TABLE: Drupal_employee_directory.csv  FIELD: Directory Title               \n"
     ]
    }
   ],
   "source": [
    "field = api.drs_from_raw_field(('mitdwh', 'Employee_directory.csv', 'Primary Title'))\n",
    "res = api.similar_content_to(field)\n",
    "res.pretty_print_columns()"
   ]
  },
  {
   "cell_type": "code",
   "execution_count": 5,
   "metadata": {
    "collapsed": false
   },
   "outputs": [
    {
     "name": "stdout",
     "output_type": "stream",
     "text": [
      "The result does not exist\n"
     ]
    }
   ],
   "source": [
    "res.why_id('1239902562')"
   ]
  },
  {
   "cell_type": "markdown",
   "metadata": {},
   "source": [
    "# Story"
   ]
  },
  {
   "cell_type": "markdown",
   "metadata": {},
   "source": [
    "We have 2400 tables in MIT data warehouse and among them 160 are semi-public. In this demo we will show how to find all the employees in MIT working in the degree granting department."
   ]
  },
  {
   "cell_type": "markdown",
   "metadata": {},
   "source": [
    "# 1-Discovering Relevant Tables"
   ]
  },
  {
   "cell_type": "markdown",
   "metadata": {},
   "source": [
    "### I want to find tables about employees"
   ]
  },
  {
   "cell_type": "code",
   "execution_count": 2,
   "metadata": {
    "collapsed": false,
    "scrolled": true
   },
   "outputs": [
    {
     "name": "stdout",
     "output_type": "stream",
     "text": [
      "Employee_directory.csv\n"
     ]
    }
   ],
   "source": [
    "res = api.table_name_search('Employee')\n",
    "res.print_tables()"
   ]
  },
  {
   "cell_type": "code",
   "execution_count": 6,
   "metadata": {
    "collapsed": false
   },
   "outputs": [
    {
     "name": "stdout",
     "output_type": "stream",
     "text": [
      "DB: mitdwh               TABLE: Employee_directory.csv         FIELD: Office Location               \n",
      "DB: mitdwh               TABLE: Employee_directory.csv         FIELD: Department Name               \n",
      "DB: mitdwh               TABLE: Employee_directory.csv         FIELD: Krb Name                      \n",
      "DB: mitdwh               TABLE: Employee_directory.csv         FIELD: Personal Url                  \n",
      "DB: mitdwh               TABLE: Employee_directory.csv         FIELD: Name Known By                 \n",
      "DB: mitdwh               TABLE: Employee_directory.csv         FIELD: Full Name                     \n",
      "DB: mitdwh               TABLE: Employee_directory.csv         FIELD: Office Phone                  \n",
      "DB: mitdwh               TABLE: Employee_directory.csv         FIELD: Krb Name Uppercase            \n",
      "DB: mitdwh               TABLE: Employee_directory.csv         FIELD: Email Address                 \n",
      "DB: mitdwh               TABLE: Employee_directory.csv         FIELD: Last Name                     \n"
     ]
    }
   ],
   "source": [
    "res.pretty_print_columns()"
   ]
  },
  {
   "cell_type": "markdown",
   "metadata": {},
   "source": [
    "### I want to find tables that contain information about degree granting"
   ]
  },
  {
   "cell_type": "code",
   "execution_count": 3,
   "metadata": {
    "collapsed": false
   },
   "outputs": [
    {
     "name": "stdout",
     "output_type": "stream",
     "text": [
      "DB: mitdwh               TABLE: Sis_department.csv             FIELD: Is Degree Granting            \n",
      "DB: mitdwh               TABLE: Hr_faculty_roster.csv          FIELD: Terminal Degree               \n",
      "DB: mitdwh               TABLE: Student_degree_program.csv     FIELD: Degree Desc                   \n",
      "DB: mitdwh               TABLE: Sis_course_description.csv     FIELD: Is Degree Granting            \n",
      "DB: mitdwh               TABLE: Student_degree_program.csv     FIELD: Degree Code                   \n",
      "DB: mitdwh               TABLE: Student_degree_program.csv     FIELD: Degree Type                   \n",
      "DB: mitdwh               TABLE: Student_degree_program.csv     FIELD: Degree Weight                 \n",
      "DB: mitdwh               TABLE: Student_degree_program.csv     FIELD: Degree Last Activity Date     \n",
      "DB: mitdwh               TABLE: Sis_course_description.csv     FIELD: Default Ultimate Degree       \n",
      "DB: mitdwh               TABLE: Student_degree_program.csv     FIELD: Degree Desc Short             \n"
     ]
    }
   ],
   "source": [
    "res = api.schema_name_search(\"degree\")\n",
    "res.pretty_print_columns()"
   ]
  },
  {
   "cell_type": "markdown",
   "metadata": {},
   "source": [
    "Not only I'm interested in tables with attributes that are related to **degree granting**, but also on those whose semantics are closer to **department**. I can capture that with a refined discovery query."
   ]
  },
  {
   "cell_type": "code",
   "execution_count": 4,
   "metadata": {
    "collapsed": false
   },
   "outputs": [
    {
     "name": "stdout",
     "output_type": "stream",
     "text": [
      "Sis_department.csv\n"
     ]
    }
   ],
   "source": [
    "res1 = api.schema_name_search(\"degree\")\n",
    "res2 = api.table_name_search(\"department\")\n",
    "res1.set_table_mode()\n",
    "res2.set_table_mode()\n",
    "res3 = api.intersection(res1, res2)\n",
    "res3.print_tables()"
   ]
  },
  {
   "cell_type": "markdown",
   "metadata": {},
   "source": [
    "**Sis_department.csv** seems a good candidate."
   ]
  },
  {
   "cell_type": "markdown",
   "metadata": {},
   "source": [
    "# 2-Finding Join Paths"
   ]
  },
  {
   "cell_type": "markdown",
   "metadata": {},
   "source": [
    "I have found two tables that are relevant to my query: Who employees work in degree granting departments? To run my query, however, I'd like to have a **view** of both tables. Can I join them together?"
   ]
  },
  {
   "cell_type": "code",
   "execution_count": 9,
   "metadata": {
    "collapsed": true
   },
   "outputs": [],
   "source": [
    "t1 = \"Employee_directory.csv\"\n",
    "t2 = \"Sis_department.csv\""
   ]
  },
  {
   "cell_type": "markdown",
   "metadata": {},
   "source": [
    "I'm going to create a discovery query that finds join paths between two given tables. And I'm going to wrap up that function into another, for convenience."
   ]
  },
  {
   "cell_type": "code",
   "execution_count": 5,
   "metadata": {
    "collapsed": true
   },
   "outputs": [],
   "source": [
    "def joinPaths(table1, table2):\n",
    "    drs_t1 = api.drs_from_table(table1)\n",
    "    drs_t2 = api.drs_from_table(table2)\n",
    "    drs_t1.set_table_mode()\n",
    "    drs_t2.set_table_mode()\n",
    "    res = api.paths_between(drs_t1, drs_t2, Relation.PKFK, max_hops=2)\n",
    "    #res = api.paths_between(drs_t1, drs_t2, Relation.CONTENT_SIM, max_hops=1)\n",
    "    return res"
   ]
  },
  {
   "cell_type": "code",
   "execution_count": 11,
   "metadata": {
    "collapsed": false,
    "scrolled": true
   },
   "outputs": [
    {
     "name": "stdout",
     "output_type": "stream",
     "text": [
      "[(mitdwh.Employee_directory.csv.Department Number 2036610506 0, None), (mitdwh.Sdo_crs_projected.csv.Srid 4008886731 0, mitdwh.Sdo_crs_projected.csv.Srid 4008886731 0.9997029997029997), (mitdwh.Sis_department.csv.Dept Budget Code 1239902562 0.9997029997029997, None)]\n",
      "[(mitdwh.Employee_directory.csv.Department Number 2036610506 0, None), (mitdwh.Fac_organization.csv.Major Org 47923891 0, mitdwh.Fac_organization.csv.Hr Department Code Old 444650383 0.9419354838709677), (mitdwh.Sis_department.csv.Dept Budget Code 1239902562 0.9872611464968153, None)]\n",
      "[(mitdwh.Employee_directory.csv.Department Number 2036610506 0, None), (mitdwh.Fac_organization.csv.Major Org 47923891 0, mitdwh.Fac_organization.csv.Major Org 47923891 0.9872611464968153), (mitdwh.Sis_department.csv.Dept Budget Code 1239902562 0.9872611464968153, None)]\n",
      "[(mitdwh.Employee_directory.csv.Department Number 2036610506 0, None), (mitdwh.Fac_organization.csv.Major Org 47923891 0, mitdwh.Fac_organization.csv.Organization Number 81557095 0.9430379746835443), (mitdwh.Sis_department.csv.Dept Budget Code 1239902562 0.9872611464968153, None)]\n"
     ]
    }
   ],
   "source": [
    "t1 = \"Employee_directory.csv\"\n",
    "t2 = \"Sis_department.csv\"\n",
    "res = joinPaths(t1, t2)\n",
    "format_join_paths(res)"
   ]
  },
  {
   "cell_type": "code",
   "execution_count": 6,
   "metadata": {
    "collapsed": false,
    "scrolled": false
   },
   "outputs": [
    {
     "name": "stdout",
     "output_type": "stream",
     "text": [
      "PATH: 0\n",
      "degree - degree\n",
      " \n",
      "Student_degree_program.csv - Degree Code\n",
      " \n",
      "PATH: 1\n",
      "degree - degree\n",
      " \n",
      "Sis_course_description.csv - Default Ultimate Degree\n",
      " \n",
      "PATH: 2\n",
      "degree - degree\n",
      " \n",
      "Student_degree_program.csv - Degree Last Activity Date\n",
      " \n",
      "PATH: 3\n",
      "degree - degree\n",
      " \n",
      "Sis_course_description.csv - Is Degree Granting\n",
      " \n",
      "PATH: 4\n",
      "degree - degree\n",
      " \n",
      "Student_degree_program.csv - Degree Type\n",
      " \n",
      "PATH: 5\n",
      "degree - degree\n",
      " \n",
      "Hr_faculty_roster.csv - Terminal Degree\n",
      " \n",
      "PATH: 6\n",
      "degree - degree\n",
      " \n",
      "Student_degree_program.csv - Degree Desc\n",
      " \n",
      "PATH: 7\n",
      "degree - degree\n",
      " \n",
      "Student_degree_program.csv - Degree Desc Short\n",
      " \n",
      "PATH: 8\n",
      "degree - degree\n",
      " \n",
      "Sis_department.csv - Is Degree Granting\n",
      " \n",
      "PATH: 9\n",
      "degree - degree\n",
      " \n",
      "Student_degree_program.csv - Degree Weight\n",
      " \n"
     ]
    }
   ],
   "source": [
    "format_join_paths(res)"
   ]
  },
  {
   "cell_type": "markdown",
   "metadata": {},
   "source": [
    "There are 4 different join paths! Does anyone work? What are the differences?"
   ]
  },
  {
   "cell_type": "markdown",
   "metadata": {},
   "source": [
    "# 3 - Selecting Join Paths"
   ]
  },
  {
   "cell_type": "markdown",
   "metadata": {},
   "source": [
    "### There are 4 different join paths! Which join path should I use? What are the differences?\n",
    "\n",
    "The join path selection module selects one join path from perhaps many, which maximizes the estimated benefit in terms of the cardinalities and the cleanliness\n"
   ]
  },
  {
   "cell_type": "code",
   "execution_count": 7,
   "metadata": {
    "collapsed": false,
    "scrolled": false
   },
   "outputs": [
    {
     "name": "stdout",
     "output_type": "stream",
     "text": [
      "[degree.degree.degree 1 -1, mitdwh.Student_degree_program.csv.Degree Code 3823748160 3.3972297]\n"
     ]
    },
    {
     "ename": "FileNotFoundError",
     "evalue": "[Errno 2] No such file or directory: '/Users/emansour/elab/DAGroup/DataCivilizer/Demo/cidr-demo/cidr-demo/datasets/mitdwh_exp/degree'",
     "output_type": "error",
     "traceback": [
      "\u001b[0;31m---------------------------------------------------------------------------\u001b[0m",
      "\u001b[0;31mFileNotFoundError\u001b[0m                         Traceback (most recent call last)",
      "\u001b[0;32m<ipython-input-7-a1498485b1c5>\u001b[0m in \u001b[0;36m<module>\u001b[0;34m()\u001b[0m\n\u001b[1;32m      3\u001b[0m \u001b[0mprojections\u001b[0m\u001b[0;34m[\u001b[0m\u001b[0;34m'Sis_department.csv'\u001b[0m\u001b[0;34m]\u001b[0m \u001b[0;34m=\u001b[0m \u001b[0;34m[\u001b[0m\u001b[0;34m'Is Degree Granting'\u001b[0m\u001b[0;34m,\u001b[0m \u001b[0;34m'School Name'\u001b[0m\u001b[0;34m]\u001b[0m\u001b[0;34m\u001b[0m\u001b[0m\n\u001b[1;32m      4\u001b[0m \u001b[0;34m\u001b[0m\u001b[0m\n\u001b[0;32m----> 5\u001b[0;31m \u001b[0;34m(\u001b[0m\u001b[0mcorpus\u001b[0m\u001b[0;34m,\u001b[0m \u001b[0mjps\u001b[0m\u001b[0;34m)\u001b[0m \u001b[0;34m=\u001b[0m \u001b[0mjoin_path_selection\u001b[0m\u001b[0;34m(\u001b[0m\u001b[0mapi\u001b[0m\u001b[0;34m,\u001b[0m \u001b[0mres\u001b[0m\u001b[0;34m,\u001b[0m \u001b[0mprojections\u001b[0m\u001b[0;34m)\u001b[0m\u001b[0;34m\u001b[0m\u001b[0m\n\u001b[0m",
      "\u001b[0;32m/Users/emansour/elab/DAGroup/DataCivilizer/Demo/cidr-demo/cidr-demo/aurum-datadiscovery/integrating_civilizer.py\u001b[0m in \u001b[0;36mjoin_path_selection\u001b[0;34m(api, res, projections)\u001b[0m\n\u001b[1;32m    105\u001b[0m \u001b[0;34m\u001b[0m\u001b[0m\n\u001b[1;32m    106\u001b[0m \u001b[0;32mdef\u001b[0m \u001b[0mjoin_path_selection\u001b[0m\u001b[0;34m(\u001b[0m\u001b[0mapi\u001b[0m\u001b[0;34m,\u001b[0m \u001b[0mres\u001b[0m\u001b[0;34m,\u001b[0m \u001b[0mprojections\u001b[0m\u001b[0;34m)\u001b[0m\u001b[0;34m:\u001b[0m\u001b[0;34m\u001b[0m\u001b[0m\n\u001b[0;32m--> 107\u001b[0;31m     \u001b[0mtransform_to_cleaning_input\u001b[0m\u001b[0;34m(\u001b[0m\u001b[0mapi\u001b[0m\u001b[0;34m,\u001b[0m \u001b[0mres\u001b[0m\u001b[0;34m,\u001b[0m \u001b[0mprojections\u001b[0m\u001b[0;34m)\u001b[0m\u001b[0;34m\u001b[0m\u001b[0m\n\u001b[0m\u001b[1;32m    108\u001b[0m     \u001b[0mcorpus\u001b[0m \u001b[0;34m=\u001b[0m \u001b[0mjoinpathselection\u001b[0m\u001b[0;34m.\u001b[0m\u001b[0mCorpus\u001b[0m\u001b[0;34m(\u001b[0m\u001b[0;34m\"../datasets/mitdwh_q1/\"\u001b[0m\u001b[0;34m)\u001b[0m\u001b[0;34m\u001b[0m\u001b[0m\n\u001b[1;32m    109\u001b[0m     \u001b[0mjps\u001b[0m \u001b[0;34m=\u001b[0m \u001b[0mjoinpathselection\u001b[0m\u001b[0;34m.\u001b[0m\u001b[0mJPSelection\u001b[0m\u001b[0;34m(\u001b[0m\u001b[0mcorpus\u001b[0m\u001b[0;34m,\u001b[0m \u001b[0;34m\"../datasets/gt.in\"\u001b[0m\u001b[0;34m,\u001b[0m \u001b[0;34m\"../datasets/error_est.in\"\u001b[0m\u001b[0;34m,\u001b[0m \u001b[0;34m\"../datasets/q1.in\"\u001b[0m\u001b[0;34m)\u001b[0m\u001b[0;34m\u001b[0m\u001b[0m\n",
      "\u001b[0;32m/Users/emansour/elab/DAGroup/DataCivilizer/Demo/cidr-demo/cidr-demo/aurum-datadiscovery/integrating_civilizer.py\u001b[0m in \u001b[0;36mtransform_to_cleaning_input\u001b[0;34m(api, drs, projections)\u001b[0m\n\u001b[1;32m     54\u001b[0m             \u001b[0mtables_involved\u001b[0m\u001b[0;34m.\u001b[0m\u001b[0mappend\u001b[0m\u001b[0;34m(\u001b[0m\u001b[0msourcename\u001b[0m\u001b[0;34m)\u001b[0m\u001b[0;34m\u001b[0m\u001b[0m\n\u001b[1;32m     55\u001b[0m             \u001b[0mattributes\u001b[0m\u001b[0;34m.\u001b[0m\u001b[0mappend\u001b[0m\u001b[0;34m(\u001b[0m\u001b[0mfieldname\u001b[0m\u001b[0;34m)\u001b[0m\u001b[0;34m\u001b[0m\u001b[0m\n\u001b[0;32m---> 56\u001b[0;31m             \u001b[0ma_indexes\u001b[0m\u001b[0;34m.\u001b[0m\u001b[0mappend\u001b[0m\u001b[0;34m(\u001b[0m\u001b[0mget_attr_index\u001b[0m\u001b[0;34m(\u001b[0m\u001b[0mfieldname\u001b[0m\u001b[0;34m,\u001b[0m \u001b[0msourcename\u001b[0m\u001b[0;34m)\u001b[0m\u001b[0;34m)\u001b[0m\u001b[0;34m\u001b[0m\u001b[0m\n\u001b[0m\u001b[1;32m     57\u001b[0m         \u001b[0mseen_tables\u001b[0m \u001b[0;34m=\u001b[0m \u001b[0mset\u001b[0m\u001b[0;34m(\u001b[0m\u001b[0;34m)\u001b[0m\u001b[0;34m\u001b[0m\u001b[0m\n\u001b[1;32m     58\u001b[0m         \u001b[0mlines\u001b[0m\u001b[0;34m.\u001b[0m\u001b[0mappend\u001b[0m\u001b[0;34m(\u001b[0m\u001b[0mlen\u001b[0m\u001b[0;34m(\u001b[0m\u001b[0mset\u001b[0m\u001b[0;34m(\u001b[0m\u001b[0mtables_involved\u001b[0m\u001b[0;34m)\u001b[0m\u001b[0;34m)\u001b[0m\u001b[0;34m)\u001b[0m\u001b[0;34m\u001b[0m\u001b[0m\n",
      "\u001b[0;32m/Users/emansour/elab/DAGroup/DataCivilizer/Demo/cidr-demo/cidr-demo/aurum-datadiscovery/integrating_civilizer.py\u001b[0m in \u001b[0;36mget_attr_index\u001b[0;34m(attr_name, table_name)\u001b[0m\n\u001b[1;32m      6\u001b[0m     \u001b[0;32mdef\u001b[0m \u001b[0mget_attr_index\u001b[0m\u001b[0;34m(\u001b[0m\u001b[0mattr_name\u001b[0m\u001b[0;34m,\u001b[0m \u001b[0mtable_name\u001b[0m\u001b[0;34m)\u001b[0m\u001b[0;34m:\u001b[0m\u001b[0;34m\u001b[0m\u001b[0m\n\u001b[1;32m      7\u001b[0m         \u001b[0mthefile\u001b[0m \u001b[0;34m=\u001b[0m \u001b[0;34m\"/Users/emansour/elab/DAGroup/DataCivilizer/Demo/cidr-demo/cidr-demo/datasets/mitdwh_exp/\"\u001b[0m \u001b[0;34m+\u001b[0m \u001b[0mstr\u001b[0m\u001b[0;34m(\u001b[0m\u001b[0mtable_name\u001b[0m\u001b[0;34m)\u001b[0m\u001b[0;34m\u001b[0m\u001b[0m\n\u001b[0;32m----> 8\u001b[0;31m         \u001b[0;32mwith\u001b[0m \u001b[0mopen\u001b[0m\u001b[0;34m(\u001b[0m\u001b[0mthefile\u001b[0m\u001b[0;34m,\u001b[0m \u001b[0;34m\"r\"\u001b[0m\u001b[0;34m)\u001b[0m \u001b[0;32mas\u001b[0m \u001b[0mins\u001b[0m\u001b[0;34m:\u001b[0m\u001b[0;34m\u001b[0m\u001b[0m\n\u001b[0m\u001b[1;32m      9\u001b[0m             \u001b[0mheaders\u001b[0m \u001b[0;34m=\u001b[0m \u001b[0;34m[\u001b[0m\u001b[0;34m]\u001b[0m\u001b[0;34m\u001b[0m\u001b[0m\n\u001b[1;32m     10\u001b[0m             \u001b[0;32mfor\u001b[0m \u001b[0mline\u001b[0m \u001b[0;32min\u001b[0m \u001b[0mins\u001b[0m\u001b[0;34m:\u001b[0m\u001b[0;34m\u001b[0m\u001b[0m\n",
      "\u001b[0;31mFileNotFoundError\u001b[0m: [Errno 2] No such file or directory: '/Users/emansour/elab/DAGroup/DataCivilizer/Demo/cidr-demo/cidr-demo/datasets/mitdwh_exp/degree'"
     ]
    }
   ],
   "source": [
    "projections = dict()\n",
    "projections['Employee_directory.csv'] = ['Full Name', 'Office Phone', 'Primary Title', 'Department Name']\n",
    "projections['Sis_department.csv'] = ['Is Degree Granting', 'School Name']\n",
    "\n",
    "(corpus, jps) = join_path_selection(api, res, projections)"
   ]
  },
  {
   "cell_type": "markdown",
   "metadata": {},
   "source": [
    "# 4 - Cleaning the Join Path with a Budget \n",
    "### If I have some budget, which cell to clean first?\n",
    "\n",
    "The join path cleaning module uses a given budget of B user repairing actions to maximize the quality of the view by cleaning the most impact cells in the source table first"
   ]
  },
  {
   "cell_type": "code",
   "execution_count": 27,
   "metadata": {
    "collapsed": false
   },
   "outputs": [
    {
     "name": "stdout",
     "output_type": "stream",
     "text": [
      "Table\tRow\tCol\tImpact\t Value\n",
      "Employee_directory.csv\t1169\t10\t0.967521\t\n",
      "Employee_directory.csv\t9510\t10\t0.967521\t\n",
      "Employee_directory.csv\t1169\t11\t0.965677\tUnknown\n",
      "Employee_directory.csv\t1169\t9\t0.965677\tNot available\n",
      "Employee_directory.csv\t9510\t11\t0.965677\tUnknown\n",
      "Employee_directory.csv\t9510\t9\t0.965677\tNot available\n",
      "Employee_directory.csv\t9510\t7\t0.960665\t\n",
      "Employee_directory.csv\t5117\t7\t0.960111\t9999999999\n",
      "Employee_directory.csv\t6082\t7\t0.960111\t9999999999\n",
      "Employee_directory.csv\t10178\t7\t0.960059\t1111111111\n",
      "\n"
     ]
    }
   ],
   "source": [
    "budget = 10\n",
    "join_path = 3\n",
    "res = clean_with_budget(jps, corpus, budget, join_path)"
   ]
  },
  {
   "cell_type": "code",
   "execution_count": 28,
   "metadata": {
    "collapsed": false
   },
   "outputs": [
    {
     "name": "stdout",
     "output_type": "stream",
     "text": [
      "Full Name\tOffice Phone\tPrimary Title\tDepartment Name\tIs Degree Granting\tSchool Name\n",
      "Knight Terry W\t6174522922\tProfessor\tDepartment of Architecture\tY\tArchitecture and Planning\n",
      "Dutta Arindam\t6172531432\tAssociate Professor\tDepartment of Architecture\tY\tArchitecture and Planning\n",
      "Nagakura Takehiko\t6172530781\tAssociate Professor\tDepartment of Architecture\tY\tArchitecture and Planning\n",
      "Porter William L\t6176206332\tProfessor Emeritus\tDepartment of Architecture\tY\tArchitecture and Planning\n",
      "Caso Renee A\t6172537792\tAcademic Programs Manager\tDepartment of Architecture\tY\tArchitecture and Planning\n",
      "Stewart Cynthia\t6172534408\tAcademic Administrator\tDepartment of Architecture\tY\tArchitecture and Planning\n",
      "Friedman David Hodes\t6172588438\tProfessor Emeritus\tDepartment of Architecture\tY\tArchitecture and Planning\n",
      "Simunovic Anne W\t6172534412\tAssistant to the Department Head\tDepartment of Architecture\tY\tArchitecture and Planning\n",
      "Wodiczko Krzysztof\t6173246289\tProfessor Emeritus\tDepartment of Architecture\tY\tArchitecture and Planning\n",
      "Glicksman Leon R\t6172532233\tProfessor\tDepartment of Architecture\tY\tArchitecture and Planning\n",
      "Dennis Michael\t6172537650\tProfessor\tDepartment of Architecture\tY\tArchitecture and Planning\n"
     ]
    }
   ],
   "source": [
    "peek_results(10, res)"
   ]
  },
  {
   "cell_type": "code",
   "execution_count": null,
   "metadata": {
    "collapsed": true
   },
   "outputs": [],
   "source": []
  },
  {
   "cell_type": "code",
   "execution_count": null,
   "metadata": {
    "collapsed": true
   },
   "outputs": [],
   "source": []
  }
 ],
 "metadata": {
  "kernelspec": {
   "display_name": "Python [default]",
   "language": "python",
   "name": "python3"
  },
  "language_info": {
   "codemirror_mode": {
    "name": "ipython",
    "version": 3
   },
   "file_extension": ".py",
   "mimetype": "text/x-python",
   "name": "python",
   "nbconvert_exporter": "python",
   "pygments_lexer": "ipython3",
   "version": "3.5.2"
  }
 },
 "nbformat": 4,
 "nbformat_minor": 0
}
