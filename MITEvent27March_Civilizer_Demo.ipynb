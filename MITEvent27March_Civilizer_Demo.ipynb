{
 "cells": [
  {
   "cell_type": "code",
   "execution_count": 1,
   "metadata": {
    "collapsed": false,
    "scrolled": true
   },
   "outputs": [
    {
     "data": {
      "text/markdown": [
       "Loading: */Users/emansour/elab/DAGroup/DataCivilizer/Aurum-GitHub/aurum-datadiscovery/models/mitdw/*"
      ],
      "text/plain": [
       "<IPython.core.display.Markdown object>"
      ]
     },
     "metadata": {},
     "output_type": "display_data"
    },
    {
     "data": {
      "text/markdown": [
       "### Help Menu"
      ],
      "text/plain": [
       "<IPython.core.display.Markdown object>"
      ]
     },
     "metadata": {},
     "output_type": "display_data"
    },
    {
     "data": {
      "text/markdown": [
       "You can use the system through an **API** object. API objects are returnedby the *init_system* function, so you can get one by doing:"
      ],
      "text/plain": [
       "<IPython.core.display.Markdown object>"
      ]
     },
     "metadata": {},
     "output_type": "display_data"
    },
    {
     "data": {
      "text/markdown": [
       "***your_api_object = init_system('path_to_stored_model')***"
      ],
      "text/plain": [
       "<IPython.core.display.Markdown object>"
      ]
     },
     "metadata": {},
     "output_type": "display_data"
    },
    {
     "data": {
      "text/markdown": [
       "Once you have access to an API object there are a few concepts that are useful to use the API. **content** refers to actual values of a given field. For example, if you have a table with an attribute called __Name__ and values *Olu, Mike, Sam*, content refers to the actual values, e.g. Mike, Sam, Olu."
      ],
      "text/plain": [
       "<IPython.core.display.Markdown object>"
      ]
     },
     "metadata": {},
     "output_type": "display_data"
    },
    {
     "data": {
      "text/markdown": [
       "**schema** refers to the name of a given field. In the previous example, schema refers to the word__Name__ as that's how the field is called."
      ],
      "text/plain": [
       "<IPython.core.display.Markdown object>"
      ]
     },
     "metadata": {},
     "output_type": "display_data"
    },
    {
     "data": {
      "text/markdown": [
       "Finally, **entity** refers to the *semantic type* of the content. This is in experimental state. For the previous example it would return *'person'* as that's what those names refer to."
      ],
      "text/plain": [
       "<IPython.core.display.Markdown object>"
      ]
     },
     "metadata": {},
     "output_type": "display_data"
    },
    {
     "data": {
      "text/markdown": [
       "Certain functions require a *field* as input. In general a field is specified by the source name (e.g. table name) and the field name (e.g. attribute name). For example, if we are interested in finding content similar to the one of the attribute *year* in the table *Employee* we can provide the field in the following way:"
      ],
      "text/plain": [
       "<IPython.core.display.Markdown object>"
      ]
     },
     "metadata": {},
     "output_type": "display_data"
    },
    {
     "name": "stdout",
     "output_type": "stream",
     "text": [
      "field = ('Employee', 'year') # field = [<source_name>, <field_name>)\n",
      "Took 1.2761800289154053 to load all data\n"
     ]
    }
   ],
   "source": [
    "from main import init_system\n",
    "from pathselection import joinpathselection\n",
    "from integrating_civilizer import *\n",
    "from api.apiutils import Relation\n",
    "api, reporting = init_system(\"/Users/emansour/elab/DAGroup/DataCivilizer/Aurum-GitHub/aurum-datadiscovery/models/mitdw/\")"
   ]
  },
  {
   "cell_type": "markdown",
   "metadata": {},
   "source": [
    "# Story"
   ]
  },
  {
   "cell_type": "markdown",
   "metadata": {},
   "source": [
    "We have 2400 tables in MIT data warehouse and among them 160 are semi-public. In this demo we will show how to find all the employees in MIT working in the degree granting department."
   ]
  },
  {
   "cell_type": "markdown",
   "metadata": {},
   "source": [
    "# 1-Discovering Relevant Tables"
   ]
  },
  {
   "cell_type": "markdown",
   "metadata": {},
   "source": [
    "### I want to find tables about employees"
   ]
  },
  {
   "cell_type": "code",
   "execution_count": 3,
   "metadata": {
    "collapsed": false,
    "scrolled": true
   },
   "outputs": [
    {
     "name": "stdout",
     "output_type": "stream",
     "text": [
      "Employee_directory.csv\n"
     ]
    }
   ],
   "source": [
    "res = api.table_name_search('Employee')\n",
    "res.print_tables()"
   ]
  },
  {
   "cell_type": "code",
   "execution_count": 4,
   "metadata": {
    "collapsed": false
   },
   "outputs": [
    {
     "name": "stdout",
     "output_type": "stream",
     "text": [
      "DB: MITDW                TABLE: Employee_directory.csv         FIELD: Full Name                     \n",
      "DB: MITDW                TABLE: Employee_directory.csv         FIELD: Directory Full Name           \n",
      "DB: MITDW                TABLE: Employee_directory.csv         FIELD: Primary Title                 \n",
      "DB: MITDW                TABLE: Employee_directory.csv         FIELD: Department Name               \n",
      "DB: MITDW                TABLE: Employee_directory.csv         FIELD: Office Location               \n",
      "DB: MITDW                TABLE: Employee_directory.csv         FIELD: Krb Name                      \n",
      "DB: MITDW                TABLE: Employee_directory.csv         FIELD: Email Address                 \n",
      "DB: MITDW                TABLE: Employee_directory.csv         FIELD: Personal Url                  \n",
      "DB: MITDW                TABLE: Employee_directory.csv         FIELD: Email Address Uppercase       \n",
      "DB: MITDW                TABLE: Employee_directory.csv         FIELD: Department Number             \n"
     ]
    }
   ],
   "source": [
    "res.pretty_print_columns()"
   ]
  },
  {
   "cell_type": "markdown",
   "metadata": {},
   "source": [
    "### I want to find tables that contain information about degree granting"
   ]
  },
  {
   "cell_type": "code",
   "execution_count": 5,
   "metadata": {
    "collapsed": false
   },
   "outputs": [
    {
     "name": "stdout",
     "output_type": "stream",
     "text": [
      "DB: MITDW                TABLE: Sis_department.csv             FIELD: Is Degree Granting            \n",
      "DB: MITDW                TABLE: Hr_faculty_roster.csv          FIELD: Terminal Degree               \n",
      "DB: MITDW                TABLE: Student_degree_program.csv     FIELD: Degree Code                   \n",
      "DB: MITDW                TABLE: Student_degree_program.csv     FIELD: Degree Weight                 \n",
      "DB: MITDW                TABLE: Student_degree_program.csv     FIELD: Degree Desc                   \n",
      "DB: MITDW                TABLE: Student_degree_program.csv     FIELD: Degree Type                   \n",
      "DB: MITDW                TABLE: Sis_course_description.csv     FIELD: Is Degree Granting            \n",
      "DB: MITDW                TABLE: Student_degree_program.csv     FIELD: Degree Desc Short             \n",
      "DB: MITDW                TABLE: Sis_course_description.csv     FIELD: Default Ultimate Degree       \n",
      "DB: MITDW                TABLE: Student_degree_program.csv     FIELD: Degree Type Desc              \n"
     ]
    }
   ],
   "source": [
    "res = api.schema_name_search(\"degree\")\n",
    "res.pretty_print_columns()"
   ]
  },
  {
   "cell_type": "markdown",
   "metadata": {},
   "source": [
    "Not only I'm interested in tables with attributes that are related to **degree granting**, but also on those whose semantics are closer to **department**. I can capture that with a refined discovery query."
   ]
  },
  {
   "cell_type": "code",
   "execution_count": 6,
   "metadata": {
    "collapsed": false
   },
   "outputs": [
    {
     "name": "stdout",
     "output_type": "stream",
     "text": [
      "Sis_department.csv\n"
     ]
    }
   ],
   "source": [
    "res1 = api.schema_name_search(\"degree\")\n",
    "res2 = api.table_name_search(\"department\")\n",
    "res1.set_table_mode()\n",
    "res2.set_table_mode()\n",
    "res3 = api.intersection(res1, res2)\n",
    "res3.print_tables()"
   ]
  },
  {
   "cell_type": "markdown",
   "metadata": {},
   "source": [
    "**Sis_department.csv** seems a good candidate."
   ]
  },
  {
   "cell_type": "markdown",
   "metadata": {},
   "source": [
    "# 2-Finding Join Paths"
   ]
  },
  {
   "cell_type": "markdown",
   "metadata": {},
   "source": [
    "I have found two tables that are relevant to my query: Who employees work in degree granting departments? To run my query, however, I'd like to have a **view** of both tables. Can I join them together?"
   ]
  },
  {
   "cell_type": "code",
   "execution_count": 9,
   "metadata": {
    "collapsed": true
   },
   "outputs": [],
   "source": [
    "t1 = \"Employee_directory.csv\"\n",
    "t2 = \"Sis_department.csv\""
   ]
  },
  {
   "cell_type": "markdown",
   "metadata": {},
   "source": [
    "I'm going to create a discovery query that finds join paths between two given tables. And I'm going to wrap up that function into another, for convenience."
   ]
  },
  {
   "cell_type": "code",
   "execution_count": 8,
   "metadata": {
    "collapsed": true
   },
   "outputs": [],
   "source": [
    "def joinPaths(table1, table2):\n",
    "    drs_t1 = api.drs_from_table(table1)\n",
    "    drs_t2 = api.drs_from_table(table2)\n",
    "    drs_t1.set_table_mode()\n",
    "    drs_t2.set_table_mode()\n",
    "    res = api.paths_between(drs_t1, drs_t2, Relation.PKFK, max_hops=1)\n",
    "    #res = api.paths_between(drs_t1, drs_t2, Relation.CONTENT_SIM, max_hops=1)\n",
    "    return res"
   ]
  },
  {
   "cell_type": "code",
   "execution_count": 11,
   "metadata": {
    "collapsed": false,
    "scrolled": true
   },
   "outputs": [
    {
     "name": "stdout",
     "output_type": "stream",
     "text": [
      "[(mitdwh.Employee_directory.csv.Department Number 2036610506 0, None), (mitdwh.Sdo_crs_projected.csv.Srid 4008886731 0, mitdwh.Sdo_crs_projected.csv.Srid 4008886731 0.9997029997029997), (mitdwh.Sis_department.csv.Dept Budget Code 1239902562 0.9997029997029997, None)]\n",
      "[(mitdwh.Employee_directory.csv.Department Number 2036610506 0, None), (mitdwh.Fac_organization.csv.Major Org 47923891 0, mitdwh.Fac_organization.csv.Hr Department Code Old 444650383 0.9419354838709677), (mitdwh.Sis_department.csv.Dept Budget Code 1239902562 0.9872611464968153, None)]\n",
      "[(mitdwh.Employee_directory.csv.Department Number 2036610506 0, None), (mitdwh.Fac_organization.csv.Major Org 47923891 0, mitdwh.Fac_organization.csv.Major Org 47923891 0.9872611464968153), (mitdwh.Sis_department.csv.Dept Budget Code 1239902562 0.9872611464968153, None)]\n",
      "[(mitdwh.Employee_directory.csv.Department Number 2036610506 0, None), (mitdwh.Fac_organization.csv.Major Org 47923891 0, mitdwh.Fac_organization.csv.Organization Number 81557095 0.9430379746835443), (mitdwh.Sis_department.csv.Dept Budget Code 1239902562 0.9872611464968153, None)]\n"
     ]
    }
   ],
   "source": [
    "t1 = \"Employee_directory.csv\"\n",
    "t2 = \"Sis_department.csv\"\n",
    "res = joinPaths(t1, t2)\n",
    "format_join_paths(res)"
   ]
  },
  {
   "cell_type": "code",
   "execution_count": 6,
   "metadata": {
    "collapsed": false,
    "scrolled": false
   },
   "outputs": [
    {
     "name": "stdout",
     "output_type": "stream",
     "text": [
      "PATH: 0\n",
      "degree - degree\n",
      " \n",
      "Student_degree_program.csv - Degree Code\n",
      " \n",
      "PATH: 1\n",
      "degree - degree\n",
      " \n",
      "Sis_course_description.csv - Default Ultimate Degree\n",
      " \n",
      "PATH: 2\n",
      "degree - degree\n",
      " \n",
      "Student_degree_program.csv - Degree Last Activity Date\n",
      " \n",
      "PATH: 3\n",
      "degree - degree\n",
      " \n",
      "Sis_course_description.csv - Is Degree Granting\n",
      " \n",
      "PATH: 4\n",
      "degree - degree\n",
      " \n",
      "Student_degree_program.csv - Degree Type\n",
      " \n",
      "PATH: 5\n",
      "degree - degree\n",
      " \n",
      "Hr_faculty_roster.csv - Terminal Degree\n",
      " \n",
      "PATH: 6\n",
      "degree - degree\n",
      " \n",
      "Student_degree_program.csv - Degree Desc\n",
      " \n",
      "PATH: 7\n",
      "degree - degree\n",
      " \n",
      "Student_degree_program.csv - Degree Desc Short\n",
      " \n",
      "PATH: 8\n",
      "degree - degree\n",
      " \n",
      "Sis_department.csv - Is Degree Granting\n",
      " \n",
      "PATH: 9\n",
      "degree - degree\n",
      " \n",
      "Student_degree_program.csv - Degree Weight\n",
      " \n"
     ]
    }
   ],
   "source": [
    "format_join_paths(res)"
   ]
  },
  {
   "cell_type": "markdown",
   "metadata": {},
   "source": [
    "There are 4 different join paths! Does anyone work? What are the differences?"
   ]
  },
  {
   "cell_type": "markdown",
   "metadata": {},
   "source": [
    "# 3 - Selecting Join Paths"
   ]
  },
  {
   "cell_type": "markdown",
   "metadata": {},
   "source": [
    "### There are 4 different join paths! Which join path should I use? What are the differences?\n",
    "\n",
    "The join path selection module selects one join path from perhaps many, which maximizes the estimated benefit in terms of the cardinalities and the cleanliness\n"
   ]
  },
  {
   "cell_type": "code",
   "execution_count": 7,
   "metadata": {
    "collapsed": false,
    "scrolled": false
   },
   "outputs": [
    {
     "name": "stdout",
     "output_type": "stream",
     "text": [
      "[degree.degree.degree 1 -1, mitdwh.Student_degree_program.csv.Degree Code 3823748160 3.3972297]\n"
     ]
    },
    {
     "ename": "FileNotFoundError",
     "evalue": "[Errno 2] No such file or directory: '/Users/emansour/elab/DAGroup/DataCivilizer/Demo/cidr-demo/cidr-demo/datasets/mitdwh_exp/degree'",
     "output_type": "error",
     "traceback": [
      "\u001b[0;31m---------------------------------------------------------------------------\u001b[0m",
      "\u001b[0;31mFileNotFoundError\u001b[0m                         Traceback (most recent call last)",
      "\u001b[0;32m<ipython-input-7-a1498485b1c5>\u001b[0m in \u001b[0;36m<module>\u001b[0;34m()\u001b[0m\n\u001b[1;32m      3\u001b[0m \u001b[0mprojections\u001b[0m\u001b[0;34m[\u001b[0m\u001b[0;34m'Sis_department.csv'\u001b[0m\u001b[0;34m]\u001b[0m \u001b[0;34m=\u001b[0m \u001b[0;34m[\u001b[0m\u001b[0;34m'Is Degree Granting'\u001b[0m\u001b[0;34m,\u001b[0m \u001b[0;34m'School Name'\u001b[0m\u001b[0;34m]\u001b[0m\u001b[0;34m\u001b[0m\u001b[0m\n\u001b[1;32m      4\u001b[0m \u001b[0;34m\u001b[0m\u001b[0m\n\u001b[0;32m----> 5\u001b[0;31m \u001b[0;34m(\u001b[0m\u001b[0mcorpus\u001b[0m\u001b[0;34m,\u001b[0m \u001b[0mjps\u001b[0m\u001b[0;34m)\u001b[0m \u001b[0;34m=\u001b[0m \u001b[0mjoin_path_selection\u001b[0m\u001b[0;34m(\u001b[0m\u001b[0mapi\u001b[0m\u001b[0;34m,\u001b[0m \u001b[0mres\u001b[0m\u001b[0;34m,\u001b[0m \u001b[0mprojections\u001b[0m\u001b[0;34m)\u001b[0m\u001b[0;34m\u001b[0m\u001b[0m\n\u001b[0m",
      "\u001b[0;32m/Users/emansour/elab/DAGroup/DataCivilizer/Demo/cidr-demo/cidr-demo/aurum-datadiscovery/integrating_civilizer.py\u001b[0m in \u001b[0;36mjoin_path_selection\u001b[0;34m(api, res, projections)\u001b[0m\n\u001b[1;32m    105\u001b[0m \u001b[0;34m\u001b[0m\u001b[0m\n\u001b[1;32m    106\u001b[0m \u001b[0;32mdef\u001b[0m \u001b[0mjoin_path_selection\u001b[0m\u001b[0;34m(\u001b[0m\u001b[0mapi\u001b[0m\u001b[0;34m,\u001b[0m \u001b[0mres\u001b[0m\u001b[0;34m,\u001b[0m \u001b[0mprojections\u001b[0m\u001b[0;34m)\u001b[0m\u001b[0;34m:\u001b[0m\u001b[0;34m\u001b[0m\u001b[0m\n\u001b[0;32m--> 107\u001b[0;31m     \u001b[0mtransform_to_cleaning_input\u001b[0m\u001b[0;34m(\u001b[0m\u001b[0mapi\u001b[0m\u001b[0;34m,\u001b[0m \u001b[0mres\u001b[0m\u001b[0;34m,\u001b[0m \u001b[0mprojections\u001b[0m\u001b[0;34m)\u001b[0m\u001b[0;34m\u001b[0m\u001b[0m\n\u001b[0m\u001b[1;32m    108\u001b[0m     \u001b[0mcorpus\u001b[0m \u001b[0;34m=\u001b[0m \u001b[0mjoinpathselection\u001b[0m\u001b[0;34m.\u001b[0m\u001b[0mCorpus\u001b[0m\u001b[0;34m(\u001b[0m\u001b[0;34m\"../datasets/mitdwh_q1/\"\u001b[0m\u001b[0;34m)\u001b[0m\u001b[0;34m\u001b[0m\u001b[0m\n\u001b[1;32m    109\u001b[0m     \u001b[0mjps\u001b[0m \u001b[0;34m=\u001b[0m \u001b[0mjoinpathselection\u001b[0m\u001b[0;34m.\u001b[0m\u001b[0mJPSelection\u001b[0m\u001b[0;34m(\u001b[0m\u001b[0mcorpus\u001b[0m\u001b[0;34m,\u001b[0m \u001b[0;34m\"../datasets/gt.in\"\u001b[0m\u001b[0;34m,\u001b[0m \u001b[0;34m\"../datasets/error_est.in\"\u001b[0m\u001b[0;34m,\u001b[0m \u001b[0;34m\"../datasets/q1.in\"\u001b[0m\u001b[0;34m)\u001b[0m\u001b[0;34m\u001b[0m\u001b[0m\n",
      "\u001b[0;32m/Users/emansour/elab/DAGroup/DataCivilizer/Demo/cidr-demo/cidr-demo/aurum-datadiscovery/integrating_civilizer.py\u001b[0m in \u001b[0;36mtransform_to_cleaning_input\u001b[0;34m(api, drs, projections)\u001b[0m\n\u001b[1;32m     54\u001b[0m             \u001b[0mtables_involved\u001b[0m\u001b[0;34m.\u001b[0m\u001b[0mappend\u001b[0m\u001b[0;34m(\u001b[0m\u001b[0msourcename\u001b[0m\u001b[0;34m)\u001b[0m\u001b[0;34m\u001b[0m\u001b[0m\n\u001b[1;32m     55\u001b[0m             \u001b[0mattributes\u001b[0m\u001b[0;34m.\u001b[0m\u001b[0mappend\u001b[0m\u001b[0;34m(\u001b[0m\u001b[0mfieldname\u001b[0m\u001b[0;34m)\u001b[0m\u001b[0;34m\u001b[0m\u001b[0m\n\u001b[0;32m---> 56\u001b[0;31m             \u001b[0ma_indexes\u001b[0m\u001b[0;34m.\u001b[0m\u001b[0mappend\u001b[0m\u001b[0;34m(\u001b[0m\u001b[0mget_attr_index\u001b[0m\u001b[0;34m(\u001b[0m\u001b[0mfieldname\u001b[0m\u001b[0;34m,\u001b[0m \u001b[0msourcename\u001b[0m\u001b[0;34m)\u001b[0m\u001b[0;34m)\u001b[0m\u001b[0;34m\u001b[0m\u001b[0m\n\u001b[0m\u001b[1;32m     57\u001b[0m         \u001b[0mseen_tables\u001b[0m \u001b[0;34m=\u001b[0m \u001b[0mset\u001b[0m\u001b[0;34m(\u001b[0m\u001b[0;34m)\u001b[0m\u001b[0;34m\u001b[0m\u001b[0m\n\u001b[1;32m     58\u001b[0m         \u001b[0mlines\u001b[0m\u001b[0;34m.\u001b[0m\u001b[0mappend\u001b[0m\u001b[0;34m(\u001b[0m\u001b[0mlen\u001b[0m\u001b[0;34m(\u001b[0m\u001b[0mset\u001b[0m\u001b[0;34m(\u001b[0m\u001b[0mtables_involved\u001b[0m\u001b[0;34m)\u001b[0m\u001b[0;34m)\u001b[0m\u001b[0;34m)\u001b[0m\u001b[0;34m\u001b[0m\u001b[0m\n",
      "\u001b[0;32m/Users/emansour/elab/DAGroup/DataCivilizer/Demo/cidr-demo/cidr-demo/aurum-datadiscovery/integrating_civilizer.py\u001b[0m in \u001b[0;36mget_attr_index\u001b[0;34m(attr_name, table_name)\u001b[0m\n\u001b[1;32m      6\u001b[0m     \u001b[0;32mdef\u001b[0m \u001b[0mget_attr_index\u001b[0m\u001b[0;34m(\u001b[0m\u001b[0mattr_name\u001b[0m\u001b[0;34m,\u001b[0m \u001b[0mtable_name\u001b[0m\u001b[0;34m)\u001b[0m\u001b[0;34m:\u001b[0m\u001b[0;34m\u001b[0m\u001b[0m\n\u001b[1;32m      7\u001b[0m         \u001b[0mthefile\u001b[0m \u001b[0;34m=\u001b[0m \u001b[0;34m\"/Users/emansour/elab/DAGroup/DataCivilizer/Demo/cidr-demo/cidr-demo/datasets/mitdwh_exp/\"\u001b[0m \u001b[0;34m+\u001b[0m \u001b[0mstr\u001b[0m\u001b[0;34m(\u001b[0m\u001b[0mtable_name\u001b[0m\u001b[0;34m)\u001b[0m\u001b[0;34m\u001b[0m\u001b[0m\n\u001b[0;32m----> 8\u001b[0;31m         \u001b[0;32mwith\u001b[0m \u001b[0mopen\u001b[0m\u001b[0;34m(\u001b[0m\u001b[0mthefile\u001b[0m\u001b[0;34m,\u001b[0m \u001b[0;34m\"r\"\u001b[0m\u001b[0;34m)\u001b[0m \u001b[0;32mas\u001b[0m \u001b[0mins\u001b[0m\u001b[0;34m:\u001b[0m\u001b[0;34m\u001b[0m\u001b[0m\n\u001b[0m\u001b[1;32m      9\u001b[0m             \u001b[0mheaders\u001b[0m \u001b[0;34m=\u001b[0m \u001b[0;34m[\u001b[0m\u001b[0;34m]\u001b[0m\u001b[0;34m\u001b[0m\u001b[0m\n\u001b[1;32m     10\u001b[0m             \u001b[0;32mfor\u001b[0m \u001b[0mline\u001b[0m \u001b[0;32min\u001b[0m \u001b[0mins\u001b[0m\u001b[0;34m:\u001b[0m\u001b[0;34m\u001b[0m\u001b[0m\n",
      "\u001b[0;31mFileNotFoundError\u001b[0m: [Errno 2] No such file or directory: '/Users/emansour/elab/DAGroup/DataCivilizer/Demo/cidr-demo/cidr-demo/datasets/mitdwh_exp/degree'"
     ]
    }
   ],
   "source": [
    "projections = dict()\n",
    "projections['Employee_directory.csv'] = ['Full Name', 'Office Phone', 'Primary Title', 'Department Name']\n",
    "projections['Sis_department.csv'] = ['Is Degree Granting', 'School Name']\n",
    "\n",
    "(corpus, jps) = join_path_selection(api, res, projections)"
   ]
  },
  {
   "cell_type": "markdown",
   "metadata": {},
   "source": [
    "# 4 - Cleaning the Join Path with a Budget \n",
    "### If I have some budget, which cell to clean first?\n",
    "\n",
    "The join path cleaning module uses a given budget of B user repairing actions to maximize the quality of the view by cleaning the most impact cells in the source table first"
   ]
  },
  {
   "cell_type": "code",
   "execution_count": 27,
   "metadata": {
    "collapsed": false
   },
   "outputs": [
    {
     "name": "stdout",
     "output_type": "stream",
     "text": [
      "Table\tRow\tCol\tImpact\t Value\n",
      "Employee_directory.csv\t1169\t10\t0.967521\t\n",
      "Employee_directory.csv\t9510\t10\t0.967521\t\n",
      "Employee_directory.csv\t1169\t11\t0.965677\tUnknown\n",
      "Employee_directory.csv\t1169\t9\t0.965677\tNot available\n",
      "Employee_directory.csv\t9510\t11\t0.965677\tUnknown\n",
      "Employee_directory.csv\t9510\t9\t0.965677\tNot available\n",
      "Employee_directory.csv\t9510\t7\t0.960665\t\n",
      "Employee_directory.csv\t5117\t7\t0.960111\t9999999999\n",
      "Employee_directory.csv\t6082\t7\t0.960111\t9999999999\n",
      "Employee_directory.csv\t10178\t7\t0.960059\t1111111111\n",
      "\n"
     ]
    }
   ],
   "source": [
    "budget = 10\n",
    "join_path = 3\n",
    "res = clean_with_budget(jps, corpus, budget, join_path)"
   ]
  },
  {
   "cell_type": "code",
   "execution_count": 28,
   "metadata": {
    "collapsed": false
   },
   "outputs": [
    {
     "name": "stdout",
     "output_type": "stream",
     "text": [
      "Full Name\tOffice Phone\tPrimary Title\tDepartment Name\tIs Degree Granting\tSchool Name\n",
      "Knight Terry W\t6174522922\tProfessor\tDepartment of Architecture\tY\tArchitecture and Planning\n",
      "Dutta Arindam\t6172531432\tAssociate Professor\tDepartment of Architecture\tY\tArchitecture and Planning\n",
      "Nagakura Takehiko\t6172530781\tAssociate Professor\tDepartment of Architecture\tY\tArchitecture and Planning\n",
      "Porter William L\t6176206332\tProfessor Emeritus\tDepartment of Architecture\tY\tArchitecture and Planning\n",
      "Caso Renee A\t6172537792\tAcademic Programs Manager\tDepartment of Architecture\tY\tArchitecture and Planning\n",
      "Stewart Cynthia\t6172534408\tAcademic Administrator\tDepartment of Architecture\tY\tArchitecture and Planning\n",
      "Friedman David Hodes\t6172588438\tProfessor Emeritus\tDepartment of Architecture\tY\tArchitecture and Planning\n",
      "Simunovic Anne W\t6172534412\tAssistant to the Department Head\tDepartment of Architecture\tY\tArchitecture and Planning\n",
      "Wodiczko Krzysztof\t6173246289\tProfessor Emeritus\tDepartment of Architecture\tY\tArchitecture and Planning\n",
      "Glicksman Leon R\t6172532233\tProfessor\tDepartment of Architecture\tY\tArchitecture and Planning\n",
      "Dennis Michael\t6172537650\tProfessor\tDepartment of Architecture\tY\tArchitecture and Planning\n"
     ]
    }
   ],
   "source": [
    "peek_results(10, res)"
   ]
  },
  {
   "cell_type": "code",
   "execution_count": null,
   "metadata": {
    "collapsed": true
   },
   "outputs": [],
   "source": []
  },
  {
   "cell_type": "code",
   "execution_count": null,
   "metadata": {
    "collapsed": true
   },
   "outputs": [],
   "source": []
  }
 ],
 "metadata": {
  "kernelspec": {
   "display_name": "Python [default]",
   "language": "python",
   "name": "python3"
  },
  "language_info": {
   "codemirror_mode": {
    "name": "ipython",
    "version": 3
   },
   "file_extension": ".py",
   "mimetype": "text/x-python",
   "name": "python",
   "nbconvert_exporter": "python",
   "pygments_lexer": "ipython3",
   "version": "3.5.2"
  }
 },
 "nbformat": 4,
 "nbformat_minor": 0
}
