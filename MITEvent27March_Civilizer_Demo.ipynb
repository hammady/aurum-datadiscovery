{
 "cells": [
  {
   "cell_type": "code",
   "execution_count": 1,
   "metadata": {
    "collapsed": false,
    "scrolled": true
   },
   "outputs": [
    {
     "data": {
      "text/markdown": [
       "Loading: */Users/emansour/elab/DAGroup/DataCivilizer/Aurum-GitHub/aurum-datadiscovery/models/mitdw/*"
      ],
      "text/plain": [
       "<IPython.core.display.Markdown object>"
      ]
     },
     "metadata": {},
     "output_type": "display_data"
    },
    {
     "data": {
      "text/markdown": [
       "### Help Menu"
      ],
      "text/plain": [
       "<IPython.core.display.Markdown object>"
      ]
     },
     "metadata": {},
     "output_type": "display_data"
    },
    {
     "data": {
      "text/markdown": [
       "You can use the system through an **API** object. API objects are returnedby the *init_system* function, so you can get one by doing:"
      ],
      "text/plain": [
       "<IPython.core.display.Markdown object>"
      ]
     },
     "metadata": {},
     "output_type": "display_data"
    },
    {
     "data": {
      "text/markdown": [
       "***your_api_object = init_system('path_to_stored_model')***"
      ],
      "text/plain": [
       "<IPython.core.display.Markdown object>"
      ]
     },
     "metadata": {},
     "output_type": "display_data"
    },
    {
     "data": {
      "text/markdown": [
       "Once you have access to an API object there are a few concepts that are useful to use the API. **content** refers to actual values of a given field. For example, if you have a table with an attribute called __Name__ and values *Olu, Mike, Sam*, content refers to the actual values, e.g. Mike, Sam, Olu."
      ],
      "text/plain": [
       "<IPython.core.display.Markdown object>"
      ]
     },
     "metadata": {},
     "output_type": "display_data"
    },
    {
     "data": {
      "text/markdown": [
       "**schema** refers to the name of a given field. In the previous example, schema refers to the word__Name__ as that's how the field is called."
      ],
      "text/plain": [
       "<IPython.core.display.Markdown object>"
      ]
     },
     "metadata": {},
     "output_type": "display_data"
    },
    {
     "data": {
      "text/markdown": [
       "Finally, **entity** refers to the *semantic type* of the content. This is in experimental state. For the previous example it would return *'person'* as that's what those names refer to."
      ],
      "text/plain": [
       "<IPython.core.display.Markdown object>"
      ]
     },
     "metadata": {},
     "output_type": "display_data"
    },
    {
     "data": {
      "text/markdown": [
       "Certain functions require a *field* as input. In general a field is specified by the source name (e.g. table name) and the field name (e.g. attribute name). For example, if we are interested in finding content similar to the one of the attribute *year* in the table *Employee* we can provide the field in the following way:"
      ],
      "text/plain": [
       "<IPython.core.display.Markdown object>"
      ]
     },
     "metadata": {},
     "output_type": "display_data"
    },
    {
     "name": "stdout",
     "output_type": "stream",
     "text": [
      "field = ('Employee', 'year') # field = [<source_name>, <field_name>)\n",
      "Took 1.1333420276641846 to load all data\n"
     ]
    }
   ],
   "source": [
    "from main import init_system\n",
    "from ML_FKC_Detection import FKC_Predication\n",
    "from pathselection import joinpathselection\n",
    "from integrating_civilizer import *\n",
    "from api.apiutils import Relation\n",
    "api, reporting = init_system(\"/Users/emansour/elab/DAGroup/DataCivilizer/Aurum-GitHub/aurum-datadiscovery/models/mitdw/\")"
   ]
  },
  {
   "cell_type": "code",
   "execution_count": 3,
   "metadata": {
    "collapsed": false
   },
   "outputs": [
    {
     "name": "stdout",
     "output_type": "stream",
     "text": [
      "Employee_directory.csv\n"
     ]
    }
   ],
   "source": [
    "res = api.table_name_search(\"employee\")\n",
    "res.print_tables()"
   ]
  },
  {
   "cell_type": "code",
   "execution_count": null,
   "metadata": {
    "collapsed": true
   },
   "outputs": [],
   "source": [
    "api.keyword_search(\"\")"
   ]
  },
  {
   "cell_type": "code",
   "execution_count": 14,
   "metadata": {
    "collapsed": false
   },
   "outputs": [
    {
     "name": "stdout",
     "output_type": "stream",
     "text": [
      "Sis_subject_code.csv\n",
      "Mit_student_directory.csv\n",
      "Library_reserve_catalog.csv\n",
      "Fclt_org_dlc_key.csv\n",
      "Student_degree_program.csv\n",
      "Hr_org_unit_new.csv\n",
      "Space_detail.csv\n",
      "Cis_course_catalog.csv\n",
      "subject_grouping_slice.csv\n",
      "Master_dept_hierarchy_links.csv\n",
      "Course_catalog_subject_offered.csv\n",
      "short_cis_course_catalog.csv\n",
      "Zip_usa.csv\n",
      "Roles_fin_pa.csv\n",
      "Drupal_course_catalog.csv\n",
      "short_course_catalog_subject_offered.csv\n",
      "Student_department.csv\n",
      "short_subjects_offered.csv\n",
      "Fclt_major_use.csv\n",
      "Hr_org_unit.csv\n",
      "Hr_faculty_roster.csv\n",
      "Subject_grouping.csv\n",
      "short_subject_summary.csv\n",
      "Subject_summary.csv\n",
      "Space_unit.csv\n",
      "Fclt_organization_hist.csv\n",
      "Fclt_organization.csv\n",
      "Employee_directory.csv\n",
      "Master_dept_hierarchy.csv\n",
      "Sis_course_description.csv\n",
      "short_drupal_course_catalog.csv\n"
     ]
    }
   ],
   "source": [
    "table_drs = api.drs_from_table(\"Sis_department.csv\")\n",
    "res = api.similar_schema_name_to(table_drs)\n",
    "res.print_tables()"
   ]
  },
  {
   "cell_type": "code",
   "execution_count": 16,
   "metadata": {
    "collapsed": false
   },
   "outputs": [
    {
     "name": "stdout",
     "output_type": "stream",
     "text": [
      "Sis_admin_department.csv\n",
      "Iap_subject_person.csv\n",
      "Fac_rooms.csv\n",
      "Sis_subject_code.csv\n",
      "short_library_reserve_catalog.csv\n",
      "Mit_student_directory.csv\n",
      "Fac_major_use.csv\n",
      "Library_reserve_catalog.csv\n",
      "Student_degree_program.csv\n",
      "Iap_subject_category.csv\n",
      "Hr_org_unit_new.csv\n",
      "Space_detail.csv\n",
      "Fac_building_address.csv\n",
      "short_subject_enrollable.csv\n",
      "Cis_course_catalog.csv\n",
      "Fclt_building_hist_1.csv\n",
      "Fclt_building_list.csv\n",
      "subject_grouping_slice.csv\n",
      "Person_auth_area.csv\n",
      "Subject_attribute.csv\n",
      "Subject_offered_summary.csv\n",
      "short_moira_list_detail.csv\n",
      "short_zip_canada.csv\n",
      "Tip_subject_offered.csv\n",
      "Cis_hass_attribute.csv\n",
      "Fclt_building_address_list.csv\n",
      "Course_catalog_subject_offered.csv\n",
      "short_cis_course_catalog.csv\n",
      "Zip_usa.csv\n",
      "Library_reserve_matrl_detail.csv\n",
      "Drupal_course_catalog.csv\n",
      "Subject_enrollable.csv\n",
      "short_course_catalog_subject_offered.csv\n",
      "Iap_subject_session.csv\n",
      "Iap_subject_sponsor.csv\n",
      "short_tip_subject_offered.csv\n",
      "Fclt_floor.csv\n",
      "Library_material_status.csv\n",
      "Fclt_building_address.csv\n",
      "Library_subject_offered.csv\n",
      "short_fclt_rooms_hist.csv\n",
      "Fclt_floor_hist.csv\n",
      "short_subjects_offered.csv\n",
      "Library_course_instructor.csv\n",
      "Hr_faculty_roster.csv\n",
      "Hr_org_unit.csv\n",
      "Subject_grouping.csv\n",
      "Zip_canada.csv\n",
      "Sis_term_address_category.csv\n",
      "Fclt_major_use.csv\n",
      "Space_usage.csv\n",
      "short_subject_summary.csv\n",
      "Buildings.csv\n",
      "Top_level_domain.csv\n",
      "Master_dept_dcode_parent.csv\n",
      "Fclt_rooms_hist.csv\n",
      "Cip_with_version.csv\n",
      "Subject_summary.csv\n",
      "Drupal_employee_directory.csv\n",
      "Space_unit.csv\n",
      "Iap_subject_detail.csv\n",
      "Tip_detail.csv\n",
      "Fclt_rooms.csv\n",
      "Fac_floor.csv\n",
      "Subject_iap_schedule.csv\n",
      "Cip.csv\n",
      "Fclt_building.csv\n",
      "Fclt_organization_hist.csv\n",
      "short_subject_offered_summary.csv\n",
      "Fac_organization.csv\n",
      "Fclt_organization.csv\n",
      "Sis_department.csv\n",
      "Fclt_major_user_hist.csv\n",
      "Space_floor.csv\n",
      "Fac_building.csv\n",
      "Sis_lookup.csv\n",
      "Student_department.csv\n",
      "Tip_material_status.csv\n",
      "Moira_list_detail.csv\n",
      "Subjects_offered.csv\n"
     ]
    }
   ],
   "source": [
    "table_drs = api.drs_from_table(\"Sis_course_description.csv\")\n",
    "res2 = api.similar_schema_name_to(table_drs)\n",
    "res2.print_tables()"
   ]
  },
  {
   "cell_type": "code",
   "execution_count": 17,
   "metadata": {
    "collapsed": false
   },
   "outputs": [
    {
     "name": "stdout",
     "output_type": "stream",
     "text": [
      "Sis_admin_department.csv\n",
      "Iap_subject_person.csv\n",
      "Fac_rooms.csv\n",
      "Sis_subject_code.csv\n",
      "short_library_reserve_catalog.csv\n",
      "Mit_student_directory.csv\n",
      "Fac_major_use.csv\n",
      "Library_reserve_catalog.csv\n",
      "Student_degree_program.csv\n",
      "Iap_subject_category.csv\n",
      "Subject_iap_schedule.csv\n",
      "Hr_org_unit_new.csv\n",
      "Space_detail.csv\n",
      "Fac_building_address.csv\n",
      "short_subject_enrollable.csv\n",
      "Cis_course_catalog.csv\n",
      "Fclt_building_hist_1.csv\n",
      "Fclt_building_list.csv\n",
      "subject_grouping_slice.csv\n",
      "Person_auth_area.csv\n",
      "short_zip_canada.csv\n",
      "Tip_subject_offered.csv\n",
      "Subject_attribute.csv\n",
      "short_moira_list_detail.csv\n",
      "Subject_offered_summary.csv\n",
      "Cis_hass_attribute.csv\n",
      "Fclt_building_address_list.csv\n",
      "Course_catalog_subject_offered.csv\n",
      "short_cis_course_catalog.csv\n",
      "Zip_usa.csv\n",
      "Drupal_course_catalog.csv\n",
      "Subject_enrollable.csv\n",
      "short_course_catalog_subject_offered.csv\n",
      "Iap_subject_session.csv\n",
      "Iap_subject_sponsor.csv\n",
      "short_tip_subject_offered.csv\n",
      "Fclt_floor.csv\n",
      "Library_material_status.csv\n",
      "Fclt_building_address.csv\n",
      "Tip_material_status.csv\n",
      "Library_subject_offered.csv\n",
      "short_fclt_rooms_hist.csv\n",
      "Fclt_major_use.csv\n",
      "Fclt_floor_hist.csv\n",
      "Library_course_instructor.csv\n",
      "Hr_org_unit.csv\n",
      "Buildings.csv\n",
      "Subject_grouping.csv\n",
      "Zip_canada.csv\n",
      "Sis_term_address_category.csv\n",
      "Top_level_domain.csv\n",
      "Hr_faculty_roster.csv\n",
      "short_subject_summary.csv\n",
      "Fclt_rooms_hist.csv\n",
      "Master_dept_dcode_parent.csv\n",
      "Cip_with_version.csv\n",
      "short_subjects_offered.csv\n",
      "Subject_summary.csv\n",
      "Space_unit.csv\n",
      "Drupal_employee_directory.csv\n",
      "Fac_floor.csv\n",
      "Iap_subject_detail.csv\n",
      "Fclt_rooms.csv\n",
      "Tip_detail.csv\n",
      "Space_usage.csv\n",
      "Fclt_organization_hist.csv\n",
      "Fclt_building.csv\n",
      "short_subject_offered_summary.csv\n",
      "Cip.csv\n",
      "Fac_organization.csv\n",
      "Fclt_organization.csv\n",
      "Sis_department.csv\n",
      "Fclt_major_user_hist.csv\n",
      "Fac_building.csv\n",
      "Space_floor.csv\n",
      "Sis_lookup.csv\n",
      "Student_department.csv\n",
      "Library_reserve_matrl_detail.csv\n",
      "Moira_list_detail.csv\n",
      "Subjects_offered.csv\n"
     ]
    }
   ],
   "source": [
    "res3 = api.intersection(res, res2)\n",
    "res3.print_tables()"
   ]
  },
  {
   "cell_type": "code",
   "execution_count": null,
   "metadata": {
    "collapsed": true
   },
   "outputs": [],
   "source": [
    "api.paths_between(src, targe, Relation.PKFK)"
   ]
  },
  {
   "cell_type": "markdown",
   "metadata": {},
   "source": [
    "# Story"
   ]
  },
  {
   "cell_type": "markdown",
   "metadata": {},
   "source": [
    "We have 2400 tables in MIT data warehouse and among them 160 are semi-public. In this demo we will show how to find all the employees in MIT working in the degree granting department."
   ]
  },
  {
   "cell_type": "markdown",
   "metadata": {},
   "source": [
    "# 1-Discovering Relevant Tables"
   ]
  },
  {
   "cell_type": "markdown",
   "metadata": {},
   "source": [
    "### I want to find tables about employees"
   ]
  },
  {
   "cell_type": "code",
   "execution_count": 8,
   "metadata": {
    "collapsed": false,
    "scrolled": true
   },
   "outputs": [
    {
     "name": "stdout",
     "output_type": "stream",
     "text": [
      "Employee_directory.csv\n"
     ]
    }
   ],
   "source": [
    "res = api.table_name_search('Employee')\n",
    "res.print_tables()"
   ]
  },
  {
   "cell_type": "code",
   "execution_count": 4,
   "metadata": {
    "collapsed": false
   },
   "outputs": [
    {
     "name": "stdout",
     "output_type": "stream",
     "text": [
      "DB: MITDW                TABLE: Employee_directory.csv         FIELD: Full Name                     \n",
      "DB: MITDW                TABLE: Employee_directory.csv         FIELD: Directory Full Name           \n",
      "DB: MITDW                TABLE: Employee_directory.csv         FIELD: Primary Title                 \n",
      "DB: MITDW                TABLE: Employee_directory.csv         FIELD: Department Name               \n",
      "DB: MITDW                TABLE: Employee_directory.csv         FIELD: Office Location               \n",
      "DB: MITDW                TABLE: Employee_directory.csv         FIELD: Krb Name                      \n",
      "DB: MITDW                TABLE: Employee_directory.csv         FIELD: Email Address                 \n",
      "DB: MITDW                TABLE: Employee_directory.csv         FIELD: Personal Url                  \n",
      "DB: MITDW                TABLE: Employee_directory.csv         FIELD: Email Address Uppercase       \n",
      "DB: MITDW                TABLE: Employee_directory.csv         FIELD: Department Number             \n"
     ]
    }
   ],
   "source": [
    "res.pretty_print_columns()"
   ]
  },
  {
   "cell_type": "markdown",
   "metadata": {},
   "source": [
    "### I want to find tables that contain information about degree granting"
   ]
  },
  {
   "cell_type": "code",
   "execution_count": 5,
   "metadata": {
    "collapsed": false
   },
   "outputs": [
    {
     "name": "stdout",
     "output_type": "stream",
     "text": [
      "DB: MITDW                TABLE: Sis_department.csv             FIELD: Is Degree Granting            \n",
      "DB: MITDW                TABLE: Hr_faculty_roster.csv          FIELD: Terminal Degree               \n",
      "DB: MITDW                TABLE: Student_degree_program.csv     FIELD: Degree Code                   \n",
      "DB: MITDW                TABLE: Student_degree_program.csv     FIELD: Degree Weight                 \n",
      "DB: MITDW                TABLE: Student_degree_program.csv     FIELD: Degree Desc                   \n",
      "DB: MITDW                TABLE: Student_degree_program.csv     FIELD: Degree Type                   \n",
      "DB: MITDW                TABLE: Sis_course_description.csv     FIELD: Is Degree Granting            \n",
      "DB: MITDW                TABLE: Student_degree_program.csv     FIELD: Degree Desc Short             \n",
      "DB: MITDW                TABLE: Sis_course_description.csv     FIELD: Default Ultimate Degree       \n",
      "DB: MITDW                TABLE: Student_degree_program.csv     FIELD: Degree Type Desc              \n"
     ]
    }
   ],
   "source": [
    "res = api.schema_name_search(\"degree\")\n",
    "res.pretty_print_columns()"
   ]
  },
  {
   "cell_type": "markdown",
   "metadata": {},
   "source": [
    "Not only I'm interested in tables with attributes that are related to **degree granting**, but also on those whose semantics are closer to **department**. I can capture that with a refined discovery query."
   ]
  },
  {
   "cell_type": "code",
   "execution_count": 6,
   "metadata": {
    "collapsed": false
   },
   "outputs": [
    {
     "name": "stdout",
     "output_type": "stream",
     "text": [
      "Sis_department.csv\n"
     ]
    }
   ],
   "source": [
    "res1 = api.schema_name_search(\"degree\")\n",
    "res2 = api.table_name_search(\"department\")\n",
    "res1.set_table_mode()\n",
    "res2.set_table_mode()\n",
    "res3 = api.intersection(res1, res2)\n",
    "res3.print_tables()"
   ]
  },
  {
   "cell_type": "code",
   "execution_count": 15,
   "metadata": {
    "collapsed": false
   },
   "outputs": [
    {
     "name": "stdout",
     "output_type": "stream",
     "text": [
      "Time to compute certainty scores: 0.0058629512786865234\n",
      "Time to compute coverage scores: 0.2256641387939453\n"
     ]
    },
    {
     "data": {
      "text/plain": [
       "<api.apiutils.DRS at 0x1129c0be0>"
      ]
     },
     "execution_count": 15,
     "metadata": {},
     "output_type": "execute_result"
    }
   ],
   "source": [
    "table = \"Sis_department.csv\"\n",
    "res = api.drs_from_table(table)\n",
    "sim = api.similar_content_to(res)\n",
    "sim.rank_certainty()\n",
    "#sim.print_tables_with_scores()"
   ]
  },
  {
   "cell_type": "markdown",
   "metadata": {},
   "source": [
    "**Sis_department.csv** seems a good candidate."
   ]
  },
  {
   "cell_type": "markdown",
   "metadata": {},
   "source": [
    "# 2- Join Paths Selection"
   ]
  },
  {
   "cell_type": "markdown",
   "metadata": {},
   "source": [
    "The Data Civilizer system classifies the possible join paths based on its quality in terms of:\n",
    "- being a primary key and foreign key (PKFK) constraint and/or\n",
    "- cleanliness estimation."
   ]
  },
  {
   "cell_type": "markdown",
   "metadata": {},
   "source": [
    "## - Task-centric Recommandation:  PKFK Multiclass Classification"
   ]
  },
  {
   "cell_type": "code",
   "execution_count": 3,
   "metadata": {
    "collapsed": false,
    "scrolled": false
   },
   "outputs": [
    {
     "name": "stdout",
     "output_type": "stream",
     "text": [
      "Calculating the features\n",
      "... ... ... ... ... ... ... ... ... ... ... ... ... ... ... ... ... ... ... ... ... ... ... ... \n",
      "Join Path                                                                                       Class      Propablity  \n",
      " \"Employee_directory.csv@Last Name;Drupal_employee_directory.csv@Last Name\"                     Recommended [ 0.  1.  0.]\n",
      " \"Drupal_employee_directory.csv@Personal Url;Employee_directory.csv@Personal Url\"               Recommended [ 0.  1.  0.]\n",
      " \"Drupal_employee_directory.csv@Middle Name;Employee_directory.csv@Middle Name\"                 Recommended [ 0.  1.  0.]\n",
      " \"Drupal_employee_directory.csv@Office Location;Employee_directory.csv@Office Location\"         Recommended [ 0.  1.  0.]\n",
      " \"Drupal_employee_directory.csv@Hr Org Unit Title;Employee_directory.csv@Department Name\"       Not Useful [ 0.  0.  1.]\n",
      " \"Drupal_employee_directory.csv@First Name;Employee_directory.csv@Name Known By\"                Not Useful [ 0.  0.  1.]\n",
      " \"Drupal_employee_directory.csv@Mit Id;Employee_directory.csv@Mit Id\"                           Real PKFK  [ 0.6  0.4  0. ]\n",
      " \"Employee_directory.csv@Full Name;Drupal_employee_directory.csv@Full Name\"                     Real PKFK  [ 0.73333333  0.26666667  0.        ]\n",
      " \"Employee_directory.csv@Primary Title;Drupal_employee_directory.csv@Directory Title\"           Recommended [ 0.   0.9  0.1]\n",
      " \"Drupal_employee_directory.csv@Primary Title;Employee_directory.csv@Primary Title\"             Recommended [ 0.  1.  0.]\n",
      " \"Employee_directory.csv@Email Address;Drupal_employee_directory.csv@Email Address\"             Recommended [ 0.2  0.8  0. ]\n",
      " \"Drupal_employee_directory.csv@Office Phone;Employee_directory.csv@Office Phone\"               Recommended [ 0.  1.  0.]\n"
     ]
    }
   ],
   "source": [
    "t1 = \"Drupal_employee_directory.csv\"\n",
    "t2 = \"Employee_directory.csv\"\n",
    "drs_t1 = api.drs_from_table(t1)\n",
    "drs_t2 = api.drs_from_table(t2)\n",
    "drs_t1.set_table_mode()\n",
    "drs_t2.set_table_mode()\n",
    "#resML = api.paths_between(drs_t1, drs_t2, Relation.PKFK, max_hops=1)\n",
    "resML = api.paths_between(drs_t1, drs_t2, Relation.CONTENT_SIM, max_hops=1)\n",
    "FKC_Predication.classifyJoinPaths(resML)"
   ]
  },
  {
   "cell_type": "markdown",
   "metadata": {},
   "source": [
    "## - Selecting Join Paths Based on Cleanliness Estimation"
   ]
  },
  {
   "cell_type": "markdown",
   "metadata": {},
   "source": [
    "I have found two tables that are relevant to my query: Who employees work in degree granting departments? To run my query, however, I'd like to have a **view** of both tables. Can I join them together?\n",
    "\n",
    "I'm going to create a discovery query that finds join paths between two given tables. And I'm going to wrap up that function into another, for convenience."
   ]
  },
  {
   "cell_type": "code",
   "execution_count": 4,
   "metadata": {
    "collapsed": true
   },
   "outputs": [],
   "source": [
    "def joinPaths(table1, table2):\n",
    "    drs_t1 = api.drs_from_table(table1)\n",
    "    drs_t2 = api.drs_from_table(table2)\n",
    "    drs_t1.set_table_mode()\n",
    "    drs_t2.set_table_mode()\n",
    "    res = api.paths_between(drs_t1, drs_t2, Relation.PKFK, max_hops=2)\n",
    "    #res = api.paths_between(drs_t1, drs_t2, Relation.CONTENT_SIM, max_hops=1)\n",
    "    return res"
   ]
  },
  {
   "cell_type": "code",
   "execution_count": 5,
   "metadata": {
    "collapsed": false
   },
   "outputs": [],
   "source": [
    "t1 = \"Employee_directory.csv\"\n",
    "t2 = \"Sis_department.csv\"\n",
    "res = joinPaths(t1, t2)"
   ]
  },
  {
   "cell_type": "code",
   "execution_count": 6,
   "metadata": {
    "collapsed": false,
    "scrolled": false
   },
   "outputs": [
    {
     "name": "stdout",
     "output_type": "stream",
     "text": [
      "PATH: 0\n",
      "Employee_directory.csv - Department Number\n",
      " \n",
      "Fac_organization.csv - Hr Department Code Old\n",
      " \n",
      "Fac_organization.csv - Major Org\n",
      " \n",
      "Sis_department.csv - Dept Budget Code\n",
      " \n",
      "PATH: 1\n",
      "Employee_directory.csv - Department Number\n",
      " \n",
      "Sdo_crs_projected.csv - Srid\n",
      " \n",
      "Sis_department.csv - Dept Budget Code\n",
      " \n",
      "PATH: 2\n",
      "Employee_directory.csv - Department Number\n",
      " \n",
      "Fac_organization.csv - Major Org\n",
      " \n",
      "Sis_department.csv - Dept Budget Code\n",
      " \n",
      "PATH: 3\n",
      "Employee_directory.csv - Department Number\n",
      " \n",
      "Fac_organization.csv - Organization Number\n",
      " \n",
      "Fac_organization.csv - Major Org\n",
      " \n",
      "Sis_department.csv - Dept Budget Code\n",
      " \n"
     ]
    }
   ],
   "source": [
    "format_join_paths(res)"
   ]
  },
  {
   "cell_type": "markdown",
   "metadata": {},
   "source": [
    "There are 4 different join paths! Does anyone work? What are the differences?"
   ]
  },
  {
   "cell_type": "markdown",
   "metadata": {},
   "source": [
    "#### There are 4 different join paths! Which join path should I use? What are the differences?\n",
    "\n",
    "The join path selection module selects one join path from perhaps many, which maximizes the estimated benefit in terms of the cardinalities and the cleanliness\n"
   ]
  },
  {
   "cell_type": "code",
   "execution_count": 7,
   "metadata": {
    "collapsed": false,
    "scrolled": false
   },
   "outputs": [
    {
     "name": "stdout",
     "output_type": "stream",
     "text": [
      "[Hit(nid='2521631044', db_name='MITDW', source_name='Employee_directory.csv', field_name='Department Number', score=0), Hit(nid='3228173433', db_name='MITDW', source_name='Fac_organization.csv', field_name='Hr Department Code Old', score=0.9419354838709677), Hit(nid='2495270099', db_name='MITDW', source_name='Fac_organization.csv', field_name='Major Org', score=0), Hit(nid='3009237932', db_name='MITDW', source_name='Sis_department.csv', field_name='Dept Budget Code', score=0.9997029997029997)]\n",
      "[Hit(nid='2521631044', db_name='MITDW', source_name='Employee_directory.csv', field_name='Department Number', score=0), Hit(nid='3278798418', db_name='MITDW', source_name='Sdo_crs_projected.csv', field_name='Srid', score=0.9997029997029997), Hit(nid='3009237932', db_name='MITDW', source_name='Sis_department.csv', field_name='Dept Budget Code', score=0.9997029997029997)]\n",
      "[Hit(nid='2521631044', db_name='MITDW', source_name='Employee_directory.csv', field_name='Department Number', score=0), Hit(nid='2495270099', db_name='MITDW', source_name='Fac_organization.csv', field_name='Major Org', score=0.9872611464968153), Hit(nid='3009237932', db_name='MITDW', source_name='Sis_department.csv', field_name='Dept Budget Code', score=0.9997029997029997)]\n",
      "[Hit(nid='2521631044', db_name='MITDW', source_name='Employee_directory.csv', field_name='Department Number', score=0), Hit(nid='3958721257', db_name='MITDW', source_name='Fac_organization.csv', field_name='Organization Number', score=0.9430379746835443), Hit(nid='2495270099', db_name='MITDW', source_name='Fac_organization.csv', field_name='Major Org', score=0), Hit(nid='3009237932', db_name='MITDW', source_name='Sis_department.csv', field_name='Dept Budget Code', score=0.9997029997029997)]\n",
      "Join Path\t Cardinality\t Estimated Cleanliness\t Combined Ranking Score\n",
      "0\t\t8297\t\t0.960039\t\t\t7965.44\n",
      "1\t\t0\t\tnan\t\t\tnan\n",
      "2\t\t6319\t\t0.952536\t\t\t6019.07\n",
      "3\t\t8087\t\t0.965219\t\t\t7805.73\n",
      "\n"
     ]
    }
   ],
   "source": [
    "projections = dict()\n",
    "projections['Employee_directory.csv'] = ['Full Name', 'Office Phone', 'Primary Title', 'Department Name']\n",
    "projections['Sis_department.csv'] = ['Is Degree Granting', 'School Name']\n",
    "\n",
    "(corpus, jps) = join_path_selection(api, res, projections)"
   ]
  },
  {
   "cell_type": "markdown",
   "metadata": {},
   "source": [
    "# 3- Cleaning the Join Path with a Budget \n",
    "### If I have some budget, which cell to clean first?\n",
    "\n",
    "The join path cleaning module uses a given budget of B user repairing actions to maximize the quality of the view by cleaning the most impact cells in the source table first"
   ]
  },
  {
   "cell_type": "code",
   "execution_count": 8,
   "metadata": {
    "collapsed": false,
    "scrolled": true
   },
   "outputs": [
    {
     "name": "stdout",
     "output_type": "stream",
     "text": [
      "Table\tRow\tCol\tImpact\t Value\n",
      "Employee_directory.csv\t1169\t10\t0.970821\t\n",
      "Employee_directory.csv\t9510\t10\t0.970821\t\n",
      "Employee_directory.csv\t9510\t9\t0.968827\tNot available\n",
      "Employee_directory.csv\t9510\t11\t0.968827\tUnknown\n",
      "Employee_directory.csv\t1169\t11\t0.968827\tUnknown\n",
      "Employee_directory.csv\t1169\t9\t0.968827\tNot available\n",
      "Fac_organization.csv\t111\t9\t0.966614\t\n",
      "Fac_organization.csv\t23\t9\t0.966614\t\n",
      "Fac_organization.csv\t109\t9\t0.966614\t\n",
      "Fac_organization.csv\t35\t9\t0.966614\t\n",
      "\n"
     ]
    }
   ],
   "source": [
    "budget = 10\n",
    "join_path = 3\n",
    "res = clean_with_budget(jps, corpus, budget, join_path)"
   ]
  },
  {
   "cell_type": "code",
   "execution_count": null,
   "metadata": {
    "collapsed": true
   },
   "outputs": [],
   "source": [
    "show (Employee_directory.csv\t1169\t10)"
   ]
  },
  {
   "cell_type": "code",
   "execution_count": 10,
   "metadata": {
    "collapsed": false
   },
   "outputs": [
    {
     "name": "stdout",
     "output_type": "stream",
     "text": [
      "Full Name\tOffice Phone\tPrimary Title\tDepartment Name\tIs Degree Granting\tSchool Name\n",
      "Knight Terry W\t6174522922\tProfessor\tDepartment of Architecture\tY\tArchitecture and Planning\n",
      "Dutta Arindam\t6172531432\tAssociate Professor\tDepartment of Architecture\tY\tArchitecture and Planning\n",
      "Nagakura Takehiko\t6172530781\tAssociate Professor\tDepartment of Architecture\tY\tArchitecture and Planning\n",
      "Porter William L\t6176206332\tProfessor Emeritus\tDepartment of Architecture\tY\tArchitecture and Planning\n",
      "Caso Renee A\t6172537792\tAcademic Programs Manager\tDepartment of Architecture\tY\tArchitecture and Planning\n",
      "Stewart Cynthia\t6172534408\tAcademic Administrator\tDepartment of Architecture\tY\tArchitecture and Planning\n"
     ]
    }
   ],
   "source": [
    "peek_results(5, res)"
   ]
  },
  {
   "cell_type": "markdown",
   "metadata": {
    "collapsed": true
   },
   "source": [
    "# Cleaning UI"
   ]
  },
  {
   "cell_type": "code",
   "execution_count": null,
   "metadata": {
    "collapsed": true
   },
   "outputs": [],
   "source": [
    "connect_to_dataset(path or DB Connection)\n",
    "load_table()  # see values in a table\n",
    "load_table_with_cleanliness()  # see painted values in a table\n",
    "select_tables(table1, table2): selection # returns selection of tables from user\n",
    "join_path_selection(selection): jpselection  # compute join path selection algo on tables\n",
    "show_jp_selection(jpselection)  # show table with cardinality, cleanliness estimation\n",
    "selected_jp = select_jp_path(id)  # select a join path out of potentially many\n",
    "prepare_table_for_cleaning(table, selected_jp): res # \n",
    "get(res.table1, row_id, col_id) # this could be done at different levels as range of rows\n",
    "get(res.table1, [range of rows ids], [range of col or col names])\n",
    "set(res.table1, row_id, col_id) # we need a method to track back a certain cell\n",
    "\n"
   ]
  }
 ],
 "metadata": {
  "kernelspec": {
   "display_name": "Python [default]",
   "language": "python",
   "name": "python3"
  },
  "language_info": {
   "codemirror_mode": {
    "name": "ipython",
    "version": 3
   },
   "file_extension": ".py",
   "mimetype": "text/x-python",
   "name": "python",
   "nbconvert_exporter": "python",
   "pygments_lexer": "ipython3",
   "version": "3.5.2"
  }
 },
 "nbformat": 4,
 "nbformat_minor": 0
}
